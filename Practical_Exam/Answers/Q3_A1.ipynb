{
  "cells": [
    {
      "cell_type": "code",
      "execution_count": 1,
      "metadata": {
        "id": "dkSKfF3szkCF",
        "colab": {
          "base_uri": "https://localhost:8080/"
        },
        "outputId": "8f29b942-5ee0-4a9d-99ab-79fc46600188"
      },
      "outputs": [
        {
          "output_type": "stream",
          "name": "stdout",
          "text": [
            "[==================================================] 100.0% 252.1/252.1MB downloaded\n"
          ]
        }
      ],
      "source": [
        "import gensim.downloader as api\n",
        "wv_from_bin = api.load(\"glove-wiki-gigaword-200\")"
      ]
    },
    {
      "cell_type": "markdown",
      "metadata": {
        "id": "juRI9id25xP5"
      },
      "source": [
        "### <font color=\"red\"> Using analogies, go from 'hospital' to 'ambulance' </font>"
      ]
    },
    {
      "cell_type": "markdown",
      "metadata": {
        "id": "sCqQv-G-6OpH"
      },
      "source": [
        "#### Hint: King - Man + Woman = Queen"
      ]
    },
    {
      "cell_type": "code",
      "execution_count": 10,
      "metadata": {
        "id": "kx2za4QrzyBW",
        "colab": {
          "base_uri": "https://localhost:8080/"
        },
        "outputId": "8a81ea86-abb2-4bb6-865c-8c455b019b10"
      },
      "outputs": [
        {
          "output_type": "stream",
          "name": "stdout",
          "text": [
            "[('ambulance', 0.47490739822387695),\n",
            " ('polyclinic', 0.4696846902370453),\n",
            " ('hospitals', 0.4626013934612274),\n",
            " ('medical', 0.4471968710422516),\n",
            " ('clinic', 0.44156309962272644),\n",
            " ('septic', 0.43962880969047546),\n",
            " ('tanks', 0.4212988317012787),\n",
            " ('bullet', 0.4126613736152649),\n",
            " ('nursing', 0.40234267711639404),\n",
            " ('infirmary', 0.4021304249763489)]\n"
          ]
        }
      ],
      "source": [
        "import pprint\n",
        "# Run this cell to answer the analogy -- war : tank :: hospital : x\n",
        "pprint.pprint(wv_from_bin.most_similar(positive=['hospital', 'tank'], negative=['war']))"
      ]
    },
    {
      "cell_type": "markdown",
      "metadata": {
        "id": "7ukjHwjI6ZbJ"
      },
      "source": [
        "### <font color=\"red\"> Using analogies, find some gender biases learned by model from corpus regarding 'toys'</font>"
      ]
    },
    {
      "cell_type": "markdown",
      "metadata": {
        "id": "mE2NIj8ycz7x"
      },
      "source": [
        "#### Hint: Which toys assigned to girls and which toys assigned to boys?"
      ]
    },
    {
      "cell_type": "code",
      "execution_count": 20,
      "metadata": {
        "id": "spnOqmU34GRA",
        "colab": {
          "base_uri": "https://localhost:8080/"
        },
        "outputId": "f4b86ccb-1d43-4d37-9205-e971d6fb8c9b"
      },
      "outputs": [
        {
          "output_type": "stream",
          "name": "stdout",
          "text": [
            "[('toy', 0.6823447942733765),\n",
            " ('accessories', 0.5849894285202026),\n",
            " ('mattel', 0.5808156728744507),\n",
            " ('dolls', 0.5803558230400085),\n",
            " ('barbie', 0.5323588252067566),\n",
            " ('clothing', 0.532031774520874),\n",
            " ('doll', 0.5219807028770447),\n",
            " ('apparel', 0.5197311639785767),\n",
            " ('jewelry', 0.4971854090690613),\n",
            " ('products', 0.49193570017814636)]\n",
            "\n",
            "[('toy', 0.7406005263328552),\n",
            " ('mattel', 0.5168870687484741),\n",
            " ('hasbro', 0.5021642446517944),\n",
            " ('products', 0.48675236105918884),\n",
            " ('merchandise', 0.4777415096759796),\n",
            " ('kids', 0.4708000123500824),\n",
            " ('galoob', 0.45444828271865845),\n",
            " ('dolls', 0.4535480737686157),\n",
            " ('items', 0.44708311557769775),\n",
            " ('pets', 0.44533830881118774)]\n"
          ]
        }
      ],
      "source": [
        "# Run this cell to answer the analogy -- boy : toys :: girl : x\n",
        "pprint.pprint(wv_from_bin.most_similar(positive=['girl', 'toys'], negative=['boy']))\n",
        "print()\n",
        "# Run this cell to answer the analogy -- girl : toys :: boy : x\n",
        "pprint.pprint(wv_from_bin.most_similar(positive=['boy', 'toys'], negative=['girl']))"
      ]
    },
    {
      "cell_type": "markdown",
      "source": [
        "میبینیم که برای دختر ها کلماتی مثل جواهرات یا باربی نمایش داده شد ولی برای پسر ها ظاهر نشد"
      ],
      "metadata": {
        "id": "zh8vxDtLrAN3"
      }
    }
  ],
  "metadata": {
    "colab": {
      "provenance": []
    },
    "kernelspec": {
      "display_name": "Python 3",
      "name": "python3"
    },
    "language_info": {
      "name": "python",
      "version": "3.10.6"
    }
  },
  "nbformat": 4,
  "nbformat_minor": 0
}