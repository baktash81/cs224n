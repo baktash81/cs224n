{
  "cells": [
    {
      "cell_type": "markdown",
      "metadata": {
        "id": "H6oqGiIXvrMl"
      },
      "source": [
        "# NLP01022: PyTorch Workshop\n",
        "Having question about the workshop or this notebook? Contact Erfan Moosavi Monazzah (Tel: @ErfanMoosavi2000).\n",
        "<br>This notebook is adapted from CS224n PyTorch Workshop\n",
        "#### Plan\n",
        "We'll have an introduction to PyTorch and its important modules. Also we get our hands on a simple NLP task.\n",
        "<br> This notebook is available on telegram group after this session."
      ]
    },
    {
      "cell_type": "markdown",
      "metadata": {
        "id": "4gk1UKaNvrMv"
      },
      "source": [
        "## Introduction\n",
        "PyTorch is a deep learning framework, one of the two main frameworks alongside TensorFlow. \n",
        "<br>PyTorch is a popular choice among researchers and practitioners for its ease of use, flexibility, and dynamic computation graph. It allows for seamless use of GPUs, and offers extensive support for common neural network architectures and modules.\n",
        "\n",
        "Some of PyTorch's capabilities include:\n",
        "- Dynamic computation graph\n",
        "- Easy debugging and visualization with tensorboard\n",
        "- Distributed training on multiple GPUs and machines\n",
        "- Support for various neural network architectures and modules, including convolutional and recurrent neural networks, transformers, and more.\n",
        "<br> Let's start by importing PyTorch:"
      ]
    },
    {
      "cell_type": "code",
      "execution_count": null,
      "metadata": {
        "id": "u0ukr7quvrMx"
      },
      "outputs": [],
      "source": [
        "import torch\n",
        "import torch.nn as nn"
      ]
    },
    {
      "cell_type": "markdown",
      "metadata": {
        "id": "k10ZRdcBwDP3"
      },
      "source": [
        "We are all set to start our tutorial. Let's dive in!"
      ]
    },
    {
      "cell_type": "markdown",
      "metadata": {
        "id": "OLdSN9ZXvrM0"
      },
      "source": [
        "## Tensors\n",
        "**Tensors** are \n",
        "- PyTorch's most basic building block. \n",
        "- multi-dimensional matrices.\n",
        "\n",
        "for example: A 256x256 image might be represented by a `3x256x256` tensor (First dimension represents color channels)\n",
        "<br><font color='yellow'>🤔 How can we represent a sentence using tensors?</font>"
      ]
    },
    {
      "cell_type": "code",
      "source": [
        "from google.colab import drive\n",
        "drive.mount('/content/drive')"
      ],
      "metadata": {
        "colab": {
          "base_uri": "https://localhost:8080/"
        },
        "id": "3L3MO7-QsT43",
        "outputId": "b59b6c9a-a37e-4d44-ae3f-1a814cce46c9"
      },
      "execution_count": null,
      "outputs": [
        {
          "output_type": "stream",
          "name": "stdout",
          "text": [
            "Drive already mounted at /content/drive; to attempt to forcibly remount, call drive.mount(\"/content/drive\", force_remount=True).\n"
          ]
        }
      ]
    },
    {
      "cell_type": "code",
      "execution_count": null,
      "metadata": {
        "colab": {
          "base_uri": "https://localhost:8080/"
        },
        "id": "hXD7cTLTh4oF",
        "outputId": "4d46c052-0ca0-42f4-c60b-674fdba423b1"
      },
      "outputs": [
        {
          "output_type": "stream",
          "name": "stdout",
          "text": [
            "[[1, 2, 3], [4, 5, 6]]\n"
          ]
        }
      ],
      "source": [
        "list_of_lists = [\n",
        "  [1, 2, 3],\n",
        "  [4, 5, 6],\n",
        "]\n",
        "print(list_of_lists)"
      ]
    },
    {
      "cell_type": "code",
      "execution_count": null,
      "metadata": {
        "colab": {
          "base_uri": "https://localhost:8080/"
        },
        "id": "-VLgHhj0n3LM",
        "outputId": "109f606d-069f-43aa-d0d2-69441ef3ff9b"
      },
      "outputs": [
        {
          "output_type": "stream",
          "name": "stdout",
          "text": [
            "tensor([[0, 1],\n",
            "        [2, 3],\n",
            "        [4, 5]])\n"
          ]
        }
      ],
      "source": [
        "# Initializing a tensor\n",
        "data = torch.tensor([\n",
        "                     [0, 1],    \n",
        "                     [2, 3],\n",
        "                     [4, 5]\n",
        "                    ])\n",
        "print(data)"
      ]
    },
    {
      "cell_type": "markdown",
      "metadata": {
        "id": "1i7vrR1_oO4I"
      },
      "source": [
        "Each tensor has a **data type**, something like:\n",
        "- `torch.float32`\n",
        "- `torch.int`\n",
        "<br>You can specify the data type explicitly when you create the tensor:"
      ]
    },
    {
      "cell_type": "code",
      "execution_count": null,
      "metadata": {
        "colab": {
          "base_uri": "https://localhost:8080/"
        },
        "id": "t7nMdqgMoLOa",
        "outputId": "aefd31b2-dc1b-4b3e-df72-81086c2d1a45"
      },
      "outputs": [
        {
          "output_type": "stream",
          "name": "stdout",
          "text": [
            "tensor([[0., 1.],\n",
            "        [2., 3.],\n",
            "        [4., 5.]])\n"
          ]
        }
      ],
      "source": [
        "# Notice the dots after the numbers, which specify that they're floats\n",
        "data = torch.tensor([\n",
        "                     [0, 1],    \n",
        "                     [2, 3],\n",
        "                     [4, 5]\n",
        "                    ], dtype=torch.float32)\n",
        "print(data)"
      ]
    },
    {
      "cell_type": "markdown",
      "metadata": {
        "id": "aiGCmTsrpkP-"
      },
      "source": [
        "There are a number of utility functions to create tensors in pytorch:\n",
        "- **torch**.zeros(): creates a tensor filled with zeros.\n",
        "- **torch**.ones(): creates a tensor filled with ones.\n",
        "- **torch**.rand(): creates a tensor filled with random values from this range [0, 1).\n",
        "- **torch**.full(): creates a tensor filled with a scalar value.\n",
        "- **torch**.eye(): creates a square tensor with ones on the diagonal and zeros elsewhere.\n",
        "- **torch**.arange(): creates a 1D tensor with evenly spaced values in a given range, space determined by step.\n",
        "- **torch**.linspace(): creates a 1D tensor with evenly spaced values between a start and end value, space determined by number of values."
      ]
    },
    {
      "cell_type": "code",
      "execution_count": null,
      "metadata": {
        "colab": {
          "base_uri": "https://localhost:8080/"
        },
        "id": "0tn-N-z_qYj0",
        "outputId": "48216393-dfb8-45dc-cace-e84fc99f1d76"
      },
      "outputs": [
        {
          "output_type": "stream",
          "name": "stdout",
          "text": [
            "zeros = torch.zeros(2, 5)\n",
            " tensor([[0., 0., 0., 0., 0.],\n",
            "        [0., 0., 0., 0., 0.]]) \n",
            "\n",
            " ones = torch.ones(3, 4)\n",
            " tensor([[1., 1., 1., 1.],\n",
            "        [1., 1., 1., 1.],\n",
            "        [1., 1., 1., 1.]]) \n",
            "\n",
            " randoms = torch.rand(2, 3)\n",
            " tensor([[0.3238, 0.7008, 0.2275],\n",
            "        [0.4596, 0.3691, 0.6244]]) \n",
            "\n",
            " full = torch.full((3, 4), 56.7)\n",
            " tensor([[56.7000, 56.7000, 56.7000, 56.7000],\n",
            "        [56.7000, 56.7000, 56.7000, 56.7000],\n",
            "        [56.7000, 56.7000, 56.7000, 56.7000]]) \n",
            "\n",
            " I = torch.eye(3)\n",
            " tensor([[1., 0., 0.],\n",
            "        [0., 1., 0.],\n",
            "        [0., 0., 1.]]) \n",
            "\n",
            " arange = torch.arange(0, 10, 2)\n",
            " tensor([0, 2, 4, 6, 8]) \n",
            "\n",
            " linspace = torch.linspace(0, 10, 20)\n",
            " tensor([ 0.0000,  0.5263,  1.0526,  1.5789,  2.1053,  2.6316,  3.1579,  3.6842,\n",
            "         4.2105,  4.7368,  5.2632,  5.7895,  6.3158,  6.8421,  7.3684,  7.8947,\n",
            "         8.4211,  8.9474,  9.4737, 10.0000]) \n",
            "\n",
            " empty = torch.empty(2,2)\n",
            " tensor([[ 2.0642e-34,  0.0000e+00],\n",
            "        [-3.2007e-06,  4.5688e-41]])\n"
          ]
        }
      ],
      "source": [
        "zeros = torch.zeros(2, 5)  # shape\n",
        "ones = torch.ones(3, 4) # shape\n",
        "randoms = torch.rand(2, 3) # shape\n",
        "full = torch.full((3,4), 56.7) # shape, fill_value\n",
        "I = torch.eye(3) # diagonal_size\n",
        "arange = torch.arange(0, 10, 2) # start, stop, step\n",
        "linspace = torch.linspace(0, 10, 20) # start, stop, number_of_values\n",
        "empty = torch.empty(2,2) # shape: faster than zeros() or ones() because it does not init the memory it alloc\n",
        "\n",
        "print(\"zeros = torch.zeros(2, 5)\\n\", zeros, \"\\n\\n\",\n",
        "      \"ones = torch.ones(3, 4)\\n\", ones, \"\\n\\n\",\n",
        "      \"randoms = torch.rand(2, 3)\\n\", randoms, \"\\n\\n\",\n",
        "      \"full = torch.full((3, 4), 56.7)\\n\", full, \"\\n\\n\",\n",
        "      \"I = torch.eye(3)\\n\", I, \"\\n\\n\",\n",
        "      \"arange = torch.arange(0, 10, 2)\\n\", arange, \"\\n\\n\",\n",
        "      \"linspace = torch.linspace(0, 10, 20)\\n\", linspace, \"\\n\\n\",\n",
        "      \"empty = torch.empty(2,2)\\n\", empty)\n"
      ]
    },
    {
      "cell_type": "markdown",
      "metadata": {
        "id": "mwHaCI4irxSu"
      },
      "source": [
        "<font color=\"yellow\">Quiz: Under each comment write the suitable script to create the said tensor</font>\n",
        "<br>$A=\\begin{bmatrix} 1 & 2.2 & 9.6 \\\\ 4 & -7.2 & 6.3 \\end{bmatrix}$\n",
        "<br>$B=\\begin{bmatrix} 1 & 1 \\\\ 1 & 1 \\end{bmatrix}$ (How many ways?)\n"
      ]
    },
    {
      "cell_type": "code",
      "execution_count": null,
      "metadata": {
        "id": "vYVOo_snrxSv",
        "outputId": "398666ef-0938-4cb7-d514-d74c01092f1d",
        "colab": {
          "base_uri": "https://localhost:8080/"
        }
      },
      "outputs": [
        {
          "output_type": "stream",
          "name": "stdout",
          "text": [
            "tensor([[ 1.0000,  2.2000,  9.6000],\n",
            "        [ 4.0000, -7.2000,  6.3000]])\n",
            "tensor([[1., 1.],\n",
            "        [1., 1.]])\n"
          ]
        }
      ],
      "source": [
        "# A\n",
        "A = torch.tensor(\n",
        "    [\n",
        "        [1,2.2,9.6],\n",
        "        [4,-7.2,6.3]\n",
        "    ]\n",
        ")\n",
        "print(A)\n",
        "\n",
        "# B\n",
        "B = torch.ones(2,2)\n",
        "print(B)"
      ]
    },
    {
      "cell_type": "code",
      "execution_count": null,
      "metadata": {
        "colab": {
          "base_uri": "https://localhost:8080/"
        },
        "id": "OFcjwshvi3pC",
        "outputId": "7e8b697d-5e52-4d05-e483-b9fa807b1e27"
      },
      "outputs": [
        {
          "output_type": "stream",
          "name": "stdout",
          "text": [
            "A: \n",
            " tensor([[1, 2, 3],\n",
            "        [4, 5, 6]])\n",
            "B: \n",
            " tensor([[1, 2, 3],\n",
            "        [4, 5, 6]])\n",
            "A.shape: \n",
            " torch.Size([2, 3])\n",
            "A + B: \n",
            " tensor([[ 2,  4,  6],\n",
            "        [ 8, 10, 12]])\n",
            "torch.add(A, B): \n",
            " tensor([[ 2,  4,  6],\n",
            "        [ 8, 10, 12]])\n",
            "A - B: \n",
            " tensor([[0, 0, 0],\n",
            "        [0, 0, 0]])\n",
            "torch.sub(A, B): \n",
            " tensor([[0, 0, 0],\n",
            "        [0, 0, 0]])\n",
            "A * B: \n",
            " tensor([[ 1,  4,  9],\n",
            "        [16, 25, 36]])\n",
            "torch.mul(A, B): \n",
            " tensor([[ 1,  4,  9],\n",
            "        [16, 25, 36]])\n",
            "A / B: \n",
            " tensor([[1., 1., 1.],\n",
            "        [1., 1., 1.]])\n",
            "torch.div(A, B): \n",
            " tensor([[1., 1., 1.],\n",
            "        [1., 1., 1.]])\n",
            "Transpose of A: \n",
            " tensor([[1, 4],\n",
            "        [2, 5],\n",
            "        [3, 6]])\n",
            "torch.transpose(A, 0, 1): \n",
            " tensor([[1, 4],\n",
            "        [2, 5],\n",
            "        [3, 6]])\n",
            "A @ B.T: \n",
            " tensor([[14, 32],\n",
            "        [32, 77]])\n",
            "torch.matmul(A, B.T): \n",
            " tensor([[14, 32],\n",
            "        [32, 77]])\n"
          ]
        }
      ],
      "source": [
        "# Create two random tensors\n",
        "A = torch.tensor([[1, 2, 3], [4, 5, 6]])\n",
        "B = A.clone() # Modifiying the clone does not affect the original tensor\n",
        "\n",
        "A_shape = A.shape # A Size object containing tensor dimentions' sizes\n",
        "\n",
        "# Addition\n",
        "C = A + B\n",
        "C_torch = torch.add(A, B)\n",
        "\n",
        "# Subtraction\n",
        "D = A - B\n",
        "D_torch = torch.sub(A, B)\n",
        "\n",
        "# Multiplication (element-wise)\n",
        "E = A * B\n",
        "E_torch = torch.mul(A, B)\n",
        "\n",
        "# Division (element-wise)\n",
        "F = A / B\n",
        "F_torch = torch.div(A, B)\n",
        "\n",
        "# Transpose\n",
        "G = A.T\n",
        "G_torch = torch.transpose(A, 0, 1)\n",
        "\n",
        "# Matrix multiplication\n",
        "H = A @ B.T\n",
        "H_torch = torch.matmul(A, B.T)\n",
        "\n",
        "# Print results\n",
        "print(\"A: \\n\", A)\n",
        "print(\"B: \\n\", B)\n",
        "print(\"A.shape: \\n\", A_shape)\n",
        "print(\"A + B: \\n\", C)\n",
        "print(\"torch.add(A, B): \\n\", C_torch)\n",
        "print(\"A - B: \\n\", D)\n",
        "print(\"torch.sub(A, B): \\n\", D_torch)\n",
        "print(\"A * B: \\n\", E)\n",
        "print(\"torch.mul(A, B): \\n\", E_torch)\n",
        "print(\"A / B: \\n\", F)\n",
        "print(\"torch.div(A, B): \\n\", F_torch)\n",
        "print(\"Transpose of A: \\n\", G)\n",
        "print(\"torch.transpose(A, 0, 1): \\n\", G_torch)\n",
        "print(\"A @ B.T: \\n\", H)\n",
        "print(\"torch.matmul(A, B.T): \\n\", H_torch)"
      ]
    },
    {
      "cell_type": "markdown",
      "metadata": {
        "id": "CJlAwiONrxSv"
      },
      "source": [
        "<font color=\"yellow\">Quiz: Considering tensor A and B, implement the following formula: </font>\n",
        "<br>$((A+B)(A-B)^T)/I$\n",
        "<br>$A=\\begin{bmatrix} 1 & 2 & 3 \\\\ 4 & 5 & 6 \\end{bmatrix}$\n",
        "<br>$B=\\begin{bmatrix} 2 & 3 & 4 \\\\ 5 & 6 & 7 \\end{bmatrix}$"
      ]
    },
    {
      "cell_type": "code",
      "execution_count": null,
      "metadata": {
        "id": "MZsu26CrrxSw",
        "outputId": "b657fb27-1f24-4b5d-a068-17d5b4aa2193",
        "colab": {
          "base_uri": "https://localhost:8080/"
        }
      },
      "outputs": [
        {
          "output_type": "stream",
          "name": "stdout",
          "text": [
            "tensor([[-15., -inf],\n",
            "        [-inf, -33.]])\n"
          ]
        }
      ],
      "source": [
        "import torch\n",
        "\n",
        "# Create two tensors A and B\n",
        "A = torch.tensor([\n",
        "    [1,2,3],\n",
        "    [4,5,6]\n",
        "])\n",
        "B = torch.tensor([\n",
        "    [2,3,4],\n",
        "    [5,6,7]\n",
        "])\n",
        "\n",
        "# Perform the calculation\n",
        "result = ((A + B) @ (A - B).T) / torch.eye(2)\n",
        "\n",
        "# Print the result\n",
        "print(result)"
      ]
    },
    {
      "cell_type": "markdown",
      "metadata": {
        "id": "7wKqP85rrF-P"
      },
      "source": [
        "**Reshaping** tensors can be used to make batch operations easier (more on that later), but be careful that the data is reshaped in the order you expect:"
      ]
    },
    {
      "cell_type": "code",
      "execution_count": null,
      "metadata": {
        "colab": {
          "base_uri": "https://localhost:8080/"
        },
        "id": "HmUcqHYUrMu1",
        "outputId": "55a17d26-32e7-4b10-90ee-0bdaf7f70a19"
      },
      "outputs": [
        {
          "output_type": "stream",
          "name": "stdout",
          "text": [
            "The shape is currently torch.Size([15])\n",
            "The contents are currently tensor([ 1,  2,  3,  4,  5,  6,  7,  8,  9, 10, 11, 12, 13, 14, 15])\n",
            "\n",
            "After reshaping, the shape is currently torch.Size([5, 3])\n",
            "The contents are currently tensor([[ 1,  2,  3],\n",
            "        [ 4,  5,  6],\n",
            "        [ 7,  8,  9],\n",
            "        [10, 11, 12],\n",
            "        [13, 14, 15]])\n",
            "\n",
            "Changing the first value of rr will change the corresponding value in rr2\n",
            "tensor([100,   2,   3,   4,   5,   6,   7,   8,   9,  10,  11,  12,  13,  14,\n",
            "         15])\n",
            "tensor([[100,   2,   3],\n",
            "        [  4,   5,   6],\n",
            "        [  7,   8,   9],\n",
            "        [ 10,  11,  12],\n",
            "        [ 13,  14,  15]])\n"
          ]
        }
      ],
      "source": [
        "rr = torch.arange(1, 16)\n",
        "print(\"The shape is currently\", rr.shape)\n",
        "print(\"The contents are currently\", rr)\n",
        "print()\n",
        "rr2 = rr.view(5, 3) # view is not a clone, it uses the same shared data\n",
        "print(\"After reshaping, the shape is currently\", rr2.shape)\n",
        "print(\"The contents are currently\", rr2)\n",
        "print()\n",
        "print('Changing the first value of rr will change the corresponding value in rr2')\n",
        "rr[0] = 100\n",
        "print(rr)\n",
        "print(rr2)"
      ]
    },
    {
      "cell_type": "markdown",
      "metadata": {
        "id": "GaykBuhoou3M"
      },
      "source": [
        "Finally, you can also inter-convert tensors with **NumPy arrays**:"
      ]
    },
    {
      "cell_type": "code",
      "execution_count": null,
      "metadata": {
        "colab": {
          "base_uri": "https://localhost:8080/"
        },
        "id": "ppYiPnlko1Ci",
        "outputId": "0eba106d-4458-439d-80f8-dcaf72a9ba82"
      },
      "outputs": [
        {
          "output_type": "stream",
          "name": "stdout",
          "text": [
            "This is a torch.tensor tensor([[1, 0, 5]])\n",
            "This is a np.ndarray [[1 0 5]]\n"
          ]
        }
      ],
      "source": [
        "import numpy as np\n",
        "\n",
        "# numpy.ndarray --> torch.Tensor: [feed ndarray to torch.tensor]\n",
        "arr = np.array([[1, 0, 5]])\n",
        "data = torch.tensor(arr)\n",
        "print(\"This is a torch.tensor\", data)\n",
        "\n",
        "# torch.Tensor --> numpy.ndarray: [use .numpy() on tensor]\n",
        "new_arr = data.numpy()\n",
        "print(\"This is a np.ndarray\", new_arr)"
      ]
    },
    {
      "cell_type": "markdown",
      "metadata": {
        "id": "hyv1l431q9yA"
      },
      "source": [
        "## Vectorization\n",
        "One of the reasons why we use **tensors** is *vectorized operations*: operations that be conducted in parallel over a particular dimension of a tensor. "
      ]
    },
    {
      "cell_type": "code",
      "execution_count": null,
      "metadata": {
        "colab": {
          "base_uri": "https://localhost:8080/"
        },
        "id": "Kas2MEFDsJWk",
        "outputId": "da5cb648-9877-4b9d-9b8d-5f37c7f5e4ce"
      },
      "outputs": [
        {
          "output_type": "stream",
          "name": "stdout",
          "text": [
            "Data is: tensor([[ 1.,  2.,  3.,  4.,  5.,  6.,  7.],\n",
            "        [ 8.,  9., 10., 11., 12., 13., 14.],\n",
            "        [15., 16., 17., 18., 19., 20., 21.],\n",
            "        [22., 23., 24., 25., 26., 27., 28.],\n",
            "        [29., 30., 31., 32., 33., 34., 35.]])\n",
            "Taking the sum over columns:\n",
            "tensor([ 75.,  80.,  85.,  90.,  95., 100., 105.])\n",
            "Taking the sum over rows:\n",
            "tensor([ 28.,  77., 126., 175., 224.])\n",
            "Taking the std over rows:\n",
            "tensor([2.1602, 2.1602, 2.1602, 2.1602, 2.1602])\n"
          ]
        }
      ],
      "source": [
        "data = torch.arange(1, 36, dtype=torch.float32).reshape(5, 7)\n",
        "print(\"Data is:\", data)\n",
        "\n",
        "# We can perform operations like *sum* over each row...\n",
        "print(\"Taking the sum over columns:\")\n",
        "print(data.sum(dim=0))\n",
        "\n",
        "# or over each column.\n",
        "print(\"Taking the sum over rows:\")\n",
        "print(data.sum(dim=1))\n",
        "\n",
        "# Other operations are available:\n",
        "print(\"Taking the std over rows:\")\n",
        "print(data.std(dim=1))\n"
      ]
    },
    {
      "cell_type": "markdown",
      "metadata": {
        "id": "C9W_Yo5FrxSx"
      },
      "source": [
        "** Without specifying dimentions, it just sum all the values **"
      ]
    },
    {
      "cell_type": "code",
      "execution_count": null,
      "metadata": {
        "colab": {
          "base_uri": "https://localhost:8080/"
        },
        "id": "NPRy-xtuk2tK",
        "outputId": "2e2bb995-a49d-4c6f-e269-44d12edd299b"
      },
      "outputs": [
        {
          "output_type": "execute_result",
          "data": {
            "text/plain": [
              "tensor(630.)"
            ]
          },
          "metadata": {},
          "execution_count": 269
        }
      ],
      "source": [
        "data.sum()"
      ]
    },
    {
      "cell_type": "markdown",
      "metadata": {
        "id": "IJ8MjWEMxOVk"
      },
      "source": [
        "\n",
        "\n",
        "<font color=\"yellow\">Quiz: Write code that creates a `torch.tensor` with the following contents:\n",
        "$\\begin{bmatrix} 1 & 2.2 & 9.6 \\\\ 4 & -7.2 & 6.3 \\end{bmatrix}$\n",
        "\n",
        "Now compute the average of each row (`.mean()`) and each column.\n",
        "\n",
        "What's the shape of the results? </font>\n",
        "\n"
      ]
    },
    {
      "cell_type": "code",
      "execution_count": null,
      "metadata": {
        "colab": {
          "base_uri": "https://localhost:8080/"
        },
        "id": "BK0YInGkn3Xy",
        "outputId": "2254abe5-aaaf-494d-bbc8-4ec4ada856fd"
      },
      "outputs": [
        {
          "output_type": "stream",
          "name": "stdout",
          "text": [
            "torch.Size([3])\n",
            "tensor([ 2.5000, -2.5000,  7.9500])\n",
            "torch.Size([2])\n",
            "tensor([4.2667, 1.0333])\n"
          ]
        }
      ],
      "source": [
        "tens = torch.tensor([\n",
        "    [1, 2.2, 9.6],\n",
        "    [4, -7.2, 6.3]\n",
        "])\n",
        "\n",
        "row_avg = tens.mean(dim = 0)\n",
        "col_avg = tens.mean(dim = 1)\n",
        "\n",
        "print(row_avg.shape)\n",
        "print(row_avg)\n",
        "\n",
        "print(col_avg.shape)\n",
        "print(col_avg)"
      ]
    },
    {
      "cell_type": "markdown",
      "metadata": {
        "id": "V7BMktFFAkRA"
      },
      "source": [
        "## Indexing & Slicing\n",
        "\n",
        "You can access arbitrary elements of a tensor using the `[]` operator."
      ]
    },
    {
      "cell_type": "code",
      "execution_count": null,
      "metadata": {
        "colab": {
          "base_uri": "https://localhost:8080/"
        },
        "id": "vvkHJ2pYmgMD",
        "outputId": "6ba2d8d4-6673-438c-b30a-6dc296916020"
      },
      "outputs": [
        {
          "output_type": "stream",
          "name": "stdout",
          "text": [
            "tensor([[ 1,  2,  3],\n",
            "        [ 4,  5,  6],\n",
            "        [ 7,  8,  9],\n",
            "        [10, 11, 12],\n",
            "        [13, 14, 15]])\n"
          ]
        }
      ],
      "source": [
        "matr = torch.arange(1, 16).view(5, 3)\n",
        "print(matr)"
      ]
    },
    {
      "cell_type": "code",
      "execution_count": null,
      "metadata": {
        "colab": {
          "base_uri": "https://localhost:8080/"
        },
        "id": "LXfgmuplmpmg",
        "outputId": "3e2891f3-524d-4a1e-d856-53ac4ed4e533"
      },
      "outputs": [
        {
          "output_type": "execute_result",
          "data": {
            "text/plain": [
              "tensor([1, 2, 3])"
            ]
          },
          "metadata": {},
          "execution_count": 272
        }
      ],
      "source": [
        "matr[0]"
      ]
    },
    {
      "cell_type": "code",
      "execution_count": null,
      "metadata": {
        "colab": {
          "base_uri": "https://localhost:8080/"
        },
        "id": "rw_qQ9ponJV2",
        "outputId": "bea3d960-c40d-4edb-cb43-0844d16b6765"
      },
      "outputs": [
        {
          "output_type": "execute_result",
          "data": {
            "text/plain": [
              "tensor([1, 2, 3])"
            ]
          },
          "metadata": {},
          "execution_count": 273
        }
      ],
      "source": [
        "matr[0, :]"
      ]
    },
    {
      "cell_type": "code",
      "execution_count": null,
      "metadata": {
        "colab": {
          "base_uri": "https://localhost:8080/"
        },
        "id": "Yw2H2WOcmuyz",
        "outputId": "c6917fd7-fada-459f-d88b-f9c9afcec3b2"
      },
      "outputs": [
        {
          "output_type": "execute_result",
          "data": {
            "text/plain": [
              "tensor([ 1,  4,  7, 10, 13])"
            ]
          },
          "metadata": {},
          "execution_count": 274
        }
      ],
      "source": [
        "matr[:, 0]"
      ]
    },
    {
      "cell_type": "code",
      "execution_count": null,
      "metadata": {
        "colab": {
          "base_uri": "https://localhost:8080/"
        },
        "id": "q9f0q9ZFmysw",
        "outputId": "f901b3d4-d84e-4664-dfa0-cbf58939d130"
      },
      "outputs": [
        {
          "output_type": "execute_result",
          "data": {
            "text/plain": [
              "tensor([[1, 2, 3],\n",
              "        [4, 5, 6],\n",
              "        [7, 8, 9]])"
            ]
          },
          "metadata": {},
          "execution_count": 275
        }
      ],
      "source": [
        "matr[0:3]"
      ]
    },
    {
      "cell_type": "code",
      "execution_count": null,
      "metadata": {
        "colab": {
          "base_uri": "https://localhost:8080/"
        },
        "id": "Ucc2UqRVm08h",
        "outputId": "f351012f-8aaf-47ff-a0fa-dc1f8720bf8f"
      },
      "outputs": [
        {
          "output_type": "execute_result",
          "data": {
            "text/plain": [
              "tensor([[ 1,  2],\n",
              "        [ 4,  5],\n",
              "        [ 7,  8],\n",
              "        [10, 11],\n",
              "        [13, 14]])"
            ]
          },
          "metadata": {},
          "execution_count": 276
        }
      ],
      "source": [
        "matr[:, 0:2]"
      ]
    },
    {
      "cell_type": "code",
      "execution_count": null,
      "metadata": {
        "colab": {
          "base_uri": "https://localhost:8080/"
        },
        "id": "AEkhpZiRm24y",
        "outputId": "5ae22f7e-a5f7-4f15-ccaf-a47f9c7562cb"
      },
      "outputs": [
        {
          "output_type": "execute_result",
          "data": {
            "text/plain": [
              "tensor([[1, 2],\n",
              "        [4, 5],\n",
              "        [7, 8]])"
            ]
          },
          "metadata": {},
          "execution_count": 277
        }
      ],
      "source": [
        "matr[0:3, 0:2]"
      ]
    },
    {
      "cell_type": "markdown",
      "metadata": {
        "id": "KoFzslzNrxSz"
      },
      "source": [
        "It look likes they are doing the same thing?"
      ]
    },
    {
      "cell_type": "code",
      "execution_count": null,
      "metadata": {
        "colab": {
          "base_uri": "https://localhost:8080/"
        },
        "id": "kN7oaYPdm-zC",
        "outputId": "6cc72f8a-3e4e-4710-b89f-92cf31d4cbe5"
      },
      "outputs": [
        {
          "output_type": "stream",
          "name": "stdout",
          "text": [
            "tensor(3)\n",
            "tensor(3)\n"
          ]
        }
      ],
      "source": [
        "print(matr[0][2])\n",
        "print(matr[0,2])"
      ]
    },
    {
      "cell_type": "code",
      "execution_count": null,
      "metadata": {
        "colab": {
          "base_uri": "https://localhost:8080/"
        },
        "id": "4DYqlPb0ntjV",
        "outputId": "8557cde0-7c19-4fdd-dd2d-e69b7967ce47"
      },
      "outputs": [
        {
          "output_type": "execute_result",
          "data": {
            "text/plain": [
              "tensor([3, 6, 9])"
            ]
          },
          "metadata": {},
          "execution_count": 279
        }
      ],
      "source": [
        "matr[0:3, 2]"
      ]
    },
    {
      "cell_type": "code",
      "execution_count": null,
      "metadata": {
        "colab": {
          "base_uri": "https://localhost:8080/"
        },
        "id": "ihEGoU9jn1rf",
        "outputId": "1486c63d-3337-4393-b0bb-c8f037c497ac"
      },
      "outputs": [
        {
          "output_type": "execute_result",
          "data": {
            "text/plain": [
              "tensor([7, 8, 9])"
            ]
          },
          "metadata": {},
          "execution_count": 280
        }
      ],
      "source": [
        "matr[0:3][2]"
      ]
    },
    {
      "cell_type": "code",
      "execution_count": null,
      "metadata": {
        "colab": {
          "base_uri": "https://localhost:8080/"
        },
        "id": "dOPG-LeCn369",
        "outputId": "a0084366-b069-42e9-c48a-1c0b6a01c7df"
      },
      "outputs": [
        {
          "output_type": "execute_result",
          "data": {
            "text/plain": [
              "tensor([[1, 2, 3],\n",
              "        [4, 5, 6],\n",
              "        [7, 8, 9]])"
            ]
          },
          "metadata": {},
          "execution_count": 281
        }
      ],
      "source": [
        "matr[0:3]"
      ]
    },
    {
      "cell_type": "code",
      "execution_count": null,
      "metadata": {
        "colab": {
          "base_uri": "https://localhost:8080/"
        },
        "id": "Si9Xnpo-oNcm",
        "outputId": "82349d6c-0c1d-4b66-8e1c-f50a706ead86"
      },
      "outputs": [
        {
          "output_type": "execute_result",
          "data": {
            "text/plain": [
              "tensor([[ 1,  2,  3],\n",
              "        [ 7,  8,  9],\n",
              "        [13, 14, 15]])"
            ]
          },
          "metadata": {},
          "execution_count": 282
        }
      ],
      "source": [
        "matr[[0, 2, 4]]"
      ]
    },
    {
      "cell_type": "markdown",
      "metadata": {
        "id": "TZuMXxdarxS0"
      },
      "source": [
        "Accessing python scalar value in a tensor"
      ]
    },
    {
      "cell_type": "code",
      "execution_count": null,
      "metadata": {
        "colab": {
          "base_uri": "https://localhost:8080/"
        },
        "id": "BM-ZujN2IGaQ",
        "outputId": "a4c2c66d-59d4-4a53-d457-5c62d23a68a7"
      },
      "outputs": [
        {
          "output_type": "execute_result",
          "data": {
            "text/plain": [
              "tensor(1)"
            ]
          },
          "metadata": {},
          "execution_count": 283
        }
      ],
      "source": [
        "matr[0, 0]"
      ]
    },
    {
      "cell_type": "code",
      "execution_count": null,
      "metadata": {
        "colab": {
          "base_uri": "https://localhost:8080/"
        },
        "id": "6NwxK7d_Ycgs",
        "outputId": "55b8b340-d950-4475-c8a6-784c49667472"
      },
      "outputs": [
        {
          "output_type": "execute_result",
          "data": {
            "text/plain": [
              "1"
            ]
          },
          "metadata": {},
          "execution_count": 284
        }
      ],
      "source": [
        "matr[0, 0].item()"
      ]
    },
    {
      "cell_type": "markdown",
      "metadata": {
        "id": "bGod5kHa6OOF"
      },
      "source": [
        "<font color=\"yellow\">Quiz: Write code that creates a `torch.tensor` with the following contents:\n",
        "$\\begin{bmatrix} 1 & 2.2 & 9.6 \\\\ 4 & -7.2 & 6.3 \\end{bmatrix}$\n",
        "\n",
        "How do you get the first column? The first row?</font>\n",
        "\n"
      ]
    },
    {
      "cell_type": "code",
      "execution_count": null,
      "metadata": {
        "id": "yEsU87purxS1",
        "colab": {
          "base_uri": "https://localhost:8080/"
        },
        "outputId": "77930e77-ac45-47ff-b293-affa3fe09969"
      },
      "outputs": [
        {
          "output_type": "stream",
          "name": "stdout",
          "text": [
            "tensor([[ 1.0000,  2.2000,  9.6000],\n",
            "        [ 4.0000, -7.2000,  6.3000]])\n",
            "tensor([1., 4.])\n",
            "tensor([1.0000, 2.2000, 9.6000])\n"
          ]
        }
      ],
      "source": [
        "tens = torch.tensor([\n",
        "    [1, 2.2, 9.6],\n",
        "    [4, -7.2, 6.3]\n",
        "])\n",
        "\n",
        "first_col = tens[:, 0]\n",
        "first_row = tens[0, :]\n",
        "\n",
        "print(tens)\n",
        "print(first_col)\n",
        "print(first_row)"
      ]
    },
    {
      "cell_type": "markdown",
      "metadata": {
        "id": "Re8xiL37eAja"
      },
      "source": [
        "## Autograd\n",
        "Pytorch is well-known for its automatic differentiation feature. We can call the `backward()` method to ask `PyTorch` to calculate the gradients, which are then stored in the `grad` attribute."
      ]
    },
    {
      "cell_type": "code",
      "execution_count": null,
      "metadata": {
        "colab": {
          "base_uri": "https://localhost:8080/"
        },
        "id": "-oEvBJHWfn8H",
        "outputId": "2a0538af-d7a3-4e37-d404-82321cc76c31"
      },
      "outputs": [
        {
          "output_type": "stream",
          "name": "stdout",
          "text": [
            "None\n"
          ]
        }
      ],
      "source": [
        "# Create an example tensor\n",
        "# requires_grad parameter tells PyTorch to store gradients\n",
        "x = torch.tensor([2.], requires_grad=True)\n",
        "\n",
        "# Print the gradient if it is calculated\n",
        "# Currently None since x is a scalar\n",
        "print(x.grad)"
      ]
    },
    {
      "cell_type": "code",
      "execution_count": null,
      "metadata": {
        "colab": {
          "base_uri": "https://localhost:8080/"
        },
        "id": "DTJazZXkgthP",
        "outputId": "358ff1e4-e82a-46e1-8a92-6f09db433d11"
      },
      "outputs": [
        {
          "output_type": "stream",
          "name": "stdout",
          "text": [
            "tensor([12.])\n"
          ]
        }
      ],
      "source": [
        "# Calculating the gradient of y with respect to x\n",
        "y = x * x * 3 # 3x^2\n",
        "y.backward()\n",
        "print(x.grad) # d(y)/d(x) = d(3x^2)/d(x) = 6x = 12"
      ]
    },
    {
      "cell_type": "markdown",
      "metadata": {
        "id": "3Hqc2oM3iV6a"
      },
      "source": [
        "Let's run backprop from a different tensor again to see what happens."
      ]
    },
    {
      "cell_type": "code",
      "execution_count": null,
      "metadata": {
        "colab": {
          "base_uri": "https://localhost:8080/"
        },
        "id": "K--Az0Xiic_z",
        "outputId": "bf6c794e-8547-42d4-aa77-16382919c0ba"
      },
      "outputs": [
        {
          "output_type": "stream",
          "name": "stdout",
          "text": [
            "tensor([24.])\n"
          ]
        }
      ],
      "source": [
        "z = x * x * 3 # 3x^2\n",
        "z.backward()\n",
        "print(x.grad)"
      ]
    },
    {
      "cell_type": "markdown",
      "metadata": {
        "id": "HhjPkiE6i7ja"
      },
      "source": [
        "We can see that the `x.grad` is updated to be the sum of the gradients calculated so far. When we run backprop in a neural network, we sum up all the gradients for a particular neuron before making an update. This is exactly what is happening here! This is also the reason why we need to run `zero_grad()` in every training iteration (more on this later). Otherwise our gradients would keep building up from one training iteration to the other, which would cause our updates to be wrong. "
      ]
    },
    {
      "cell_type": "code",
      "execution_count": null,
      "metadata": {
        "id": "zlwIsHLWrxS1",
        "outputId": "2dd37068-becb-40b4-daac-34e655ab1e14",
        "colab": {
          "base_uri": "https://localhost:8080/"
        }
      },
      "outputs": [
        {
          "output_type": "stream",
          "name": "stdout",
          "text": [
            "tensor([24.])\n",
            "tensor([0.])\n"
          ]
        }
      ],
      "source": [
        "# let's have a look at a bit more sophisticated example:\n",
        "# clearing cumulative grads\n",
        "print(x.grad)\n",
        "x.grad.zero_()\n",
        "print(x.grad)"
      ]
    },
    {
      "cell_type": "code",
      "execution_count": null,
      "metadata": {
        "id": "PBeuzNtcrxS1",
        "outputId": "12e30b66-2d49-403f-f46d-4b5656a7f53f",
        "colab": {
          "base_uri": "https://localhost:8080/"
        }
      },
      "outputs": [
        {
          "output_type": "execute_result",
          "data": {
            "text/plain": [
              "tensor(3., requires_grad=True)"
            ]
          },
          "metadata": {},
          "execution_count": 290
        }
      ],
      "source": [
        "y = torch.tensor(3., requires_grad=True)\n",
        "y"
      ]
    },
    {
      "cell_type": "code",
      "execution_count": null,
      "metadata": {
        "id": "n3pqaIiorxS2",
        "outputId": "e708f4c1-5581-4b87-951d-da47fafc5ed1",
        "colab": {
          "base_uri": "https://localhost:8080/"
        }
      },
      "outputs": [
        {
          "output_type": "stream",
          "name": "stdout",
          "text": [
            "tensor([2.], requires_grad=True)\n",
            "tensor([30.])\n",
            "\n",
            "tensor(3., requires_grad=True)\n",
            "tensor(20.)\n"
          ]
        }
      ],
      "source": [
        "f = y * x * 10\n",
        "f.backward()\n",
        "print(x)\n",
        "print(x.grad)\n",
        "print()\n",
        "print(y)\n",
        "print(y.grad)"
      ]
    },
    {
      "cell_type": "code",
      "execution_count": null,
      "metadata": {
        "id": "o3KgFm-MrxS2",
        "outputId": "30ce3333-7bc0-4ffd-b0ce-2946bedf1918",
        "colab": {
          "base_uri": "https://localhost:8080/"
        }
      },
      "outputs": [
        {
          "output_type": "stream",
          "name": "stdout",
          "text": [
            "tensor([2.], requires_grad=True)\n",
            "tensor([30.])\n"
          ]
        }
      ],
      "source": [
        "x.grad.zero_()\n",
        "f = 3 * x\n",
        "g = 10 * f \n",
        "g.backward()\n",
        "\n",
        "print(x)\n",
        "print(x.grad)"
      ]
    },
    {
      "cell_type": "markdown",
      "metadata": {
        "id": "pYLWqKIoaOyd"
      },
      "source": [
        "## Neural Network Module\n",
        "\n",
        "So far we have looked into the tensors, their properties and basic operations on tensors. These are especially useful to get familiar with if we are building the layers of our network from scratch. We will utilize these in Assignment 3, but moving forward, we will use predefined blocks in the `torch.nn` module of `PyTorch`. We will then put together these blocks to create complex networks. Let's start by importing this module with an alias so that we don't have to type `torch` every time we use it. "
      ]
    },
    {
      "cell_type": "code",
      "execution_count": null,
      "metadata": {
        "id": "qUmrDpbhV4Tn"
      },
      "outputs": [],
      "source": [
        "import torch.nn as nn"
      ]
    },
    {
      "cell_type": "markdown",
      "metadata": {
        "id": "joGvRWjEbak0"
      },
      "source": [
        "### **Linear Layer**\n",
        "We can use `nn.Linear(H_in, H_out)` to create a a linear layer. This will take a matrix of `(N, *, H_in)` dimensions and output a matrix of `(N, *, H_out)`. The `*` denotes that there could be arbitrary number of dimensions in between. The linear layer performs the operation `Ax+b`, where `A` and `b` are initialized randomly. If we don't want the linear layer to learn the bias parameters, we can initialize our layer with `bias=False`."
      ]
    },
    {
      "cell_type": "code",
      "execution_count": null,
      "metadata": {
        "colab": {
          "base_uri": "https://localhost:8080/"
        },
        "id": "6XfnKI4-a5j9",
        "outputId": "70528d42-ab02-435c-aea1-33b33215248d"
      },
      "outputs": [
        {
          "output_type": "execute_result",
          "data": {
            "text/plain": [
              "tensor([[[-0.3015, -0.5825],\n",
              "         [-0.3015, -0.5825],\n",
              "         [-0.3015, -0.5825]],\n",
              "\n",
              "        [[-0.3015, -0.5825],\n",
              "         [-0.3015, -0.5825],\n",
              "         [-0.3015, -0.5825]]], grad_fn=<ViewBackward0>)"
            ]
          },
          "metadata": {},
          "execution_count": 294
        }
      ],
      "source": [
        "# Create the inputs\n",
        "input = torch.ones(2,3,4)\n",
        "# N* H_in -> N*H_out\n",
        "\n",
        "\n",
        "# Make a linear layers transforming N,*,H_in dimensinal inputs to N,*,H_out\n",
        "# dimensional outputs\n",
        "linear = nn.Linear(4, 2)\n",
        "linear_output = linear(input)\n",
        "linear_output"
      ]
    },
    {
      "cell_type": "code",
      "execution_count": null,
      "metadata": {
        "colab": {
          "base_uri": "https://localhost:8080/"
        },
        "id": "0_9XKtAFYpdI",
        "outputId": "df6e7761-1e5f-4038-8e7a-a9f33c23cd07"
      },
      "outputs": [
        {
          "output_type": "execute_result",
          "data": {
            "text/plain": [
              "[Parameter containing:\n",
              " tensor([[-0.3764,  0.4424, -0.4158, -0.1355],\n",
              "         [ 0.0246, -0.3775, -0.2194, -0.2303]], requires_grad=True),\n",
              " Parameter containing:\n",
              " tensor([0.1838, 0.2201], requires_grad=True)]"
            ]
          },
          "metadata": {},
          "execution_count": 295
        }
      ],
      "source": [
        "list(linear.parameters()) # Ax + b"
      ]
    },
    {
      "cell_type": "markdown",
      "metadata": {
        "id": "jAXCCu9keUlW"
      },
      "source": [
        "### **Other Module Layers**\n",
        "There are several other preconfigured layers in the `nn` module. Some commonly used examples are `nn.Conv2d`, `nn.ConvTranspose2d`, `nn.BatchNorm1d`, `nn.BatchNorm2d`, `nn.Upsample` and `nn.MaxPool2d` among many others. We will learn more about these as we progress in the course. For now, the only important thing to remember is that we can treat each of these layers as plug and play components: we will be providing the required dimensions and `PyTorch` will take care of setting them up. "
      ]
    },
    {
      "cell_type": "markdown",
      "metadata": {
        "id": "yslDOK66fYWn"
      },
      "source": [
        "### **Activation Function Layer**\n",
        "We can also use the `nn` module to apply activations functions to our tensors. Activation functions are used to add non-linearity to our network. Some examples of activations functions are `nn.ReLU()`, `nn.Sigmoid()` and `nn.LeakyReLU()`. Activation functions operate on each element seperately, so the shape of the tensors we get as an output are the same as the ones we pass in."
      ]
    },
    {
      "cell_type": "code",
      "execution_count": null,
      "metadata": {
        "colab": {
          "base_uri": "https://localhost:8080/"
        },
        "id": "IrJP5CveeOON",
        "outputId": "188b23f0-ed54-4f73-ca94-6b002d6d9d13"
      },
      "outputs": [
        {
          "output_type": "execute_result",
          "data": {
            "text/plain": [
              "tensor([[[-0.3015, -0.5825],\n",
              "         [-0.3015, -0.5825],\n",
              "         [-0.3015, -0.5825]],\n",
              "\n",
              "        [[-0.3015, -0.5825],\n",
              "         [-0.3015, -0.5825],\n",
              "         [-0.3015, -0.5825]]], grad_fn=<ViewBackward0>)"
            ]
          },
          "metadata": {},
          "execution_count": 296
        }
      ],
      "source": [
        "linear_output"
      ]
    },
    {
      "cell_type": "code",
      "execution_count": null,
      "metadata": {
        "colab": {
          "base_uri": "https://localhost:8080/"
        },
        "id": "W9v5FjQtd4Ck",
        "outputId": "acddba7d-2a9c-411c-f7d3-3d88012e6340"
      },
      "outputs": [
        {
          "output_type": "execute_result",
          "data": {
            "text/plain": [
              "tensor([[[0.4252, 0.3584],\n",
              "         [0.4252, 0.3584],\n",
              "         [0.4252, 0.3584]],\n",
              "\n",
              "        [[0.4252, 0.3584],\n",
              "         [0.4252, 0.3584],\n",
              "         [0.4252, 0.3584]]], grad_fn=<SigmoidBackward0>)"
            ]
          },
          "metadata": {},
          "execution_count": 297
        }
      ],
      "source": [
        "sigmoid = nn.Sigmoid()\n",
        "output = sigmoid(linear_output)\n",
        "output"
      ]
    },
    {
      "cell_type": "markdown",
      "metadata": {
        "id": "RiYTthJwhEYT"
      },
      "source": [
        "### **Putting the Layers Together**\n",
        "So far we have seen that we can create layers and pass the output of one as the input of the next. Instead of creating intermediate tensors and passing them around, we can use `nn.Sequentual`, which does exactly that. "
      ]
    },
    {
      "cell_type": "code",
      "execution_count": null,
      "metadata": {
        "colab": {
          "base_uri": "https://localhost:8080/"
        },
        "id": "xtJeOqLxhBLY",
        "outputId": "6045efda-918c-4cd3-849b-a2f5076c0155"
      },
      "outputs": [
        {
          "output_type": "execute_result",
          "data": {
            "text/plain": [
              "tensor([[[0.2342, 0.1865],\n",
              "         [0.2342, 0.1865],\n",
              "         [0.2342, 0.1865]],\n",
              "\n",
              "        [[0.2342, 0.1865],\n",
              "         [0.2342, 0.1865],\n",
              "         [0.2342, 0.1865]]], grad_fn=<SigmoidBackward0>)"
            ]
          },
          "metadata": {},
          "execution_count": 298
        }
      ],
      "source": [
        "block = nn.Sequential(\n",
        "    nn.Linear(4, 2),\n",
        "    nn.Sigmoid()\n",
        ")\n",
        "\n",
        "input = torch.ones(2,3,4)\n",
        "output = block(input)\n",
        "output"
      ]
    },
    {
      "cell_type": "markdown",
      "metadata": {
        "id": "GkJ81p3GUVPM"
      },
      "source": [
        "### Custom Modules\n",
        "\n",
        "Instead of using the predefined modules, we can also build our own by extending the `nn.Module` class. For example, we can build the `nn.Linear` (which also extends `nn.Module`) on our own using the tensor introduced earlier! We can also build new, more complex modules, such as a custom neural network. You will be practicing these in the later assignment.\n",
        "\n",
        "To create a custom module, the first thing we have to do is to extend the `nn.Module`. We can then initialize our parameters in the `__init__` function, starting with a call to the `__init__` function of the super class. All the class attributes we define which are `nn` module objects are treated as parameters, which can be learned during the training. Tensors are not parameters, but they can be turned into parameters if they are wrapped in `nn.Parameter` class.\n",
        "\n",
        "All classes extending `nn.Module` are also expected to implement a `forward(x)` function, where `x` is a tensor. This is the function that is called when a parameter is passed to our module, such as in `model(x)`."
      ]
    },
    {
      "cell_type": "code",
      "execution_count": null,
      "metadata": {
        "id": "J2P7eZiMj32_"
      },
      "outputs": [],
      "source": [
        "class MultilayerPerceptron(nn.Module):\n",
        "\n",
        "  def __init__(self, input_size, hidden_size):\n",
        "    # Call to the __init__ function of the super class\n",
        "    super(MultilayerPerceptron, self).__init__()\n",
        "\n",
        "    # Bookkeeping: Saving the initialization parameters\n",
        "    self.input_size = input_size \n",
        "    self.hidden_size = hidden_size \n",
        "\n",
        "    # Defining of our model\n",
        "    # There isn't anything specific about the naming of `self.model`. It could\n",
        "    # be something arbitrary.\n",
        "    self.model = nn.Sequential(\n",
        "        nn.Linear(self.input_size, self.hidden_size),\n",
        "        nn.ReLU(),\n",
        "        nn.Linear(self.hidden_size, self.input_size),\n",
        "        nn.Sigmoid()\n",
        "    )\n",
        "    \n",
        "  def forward(self, x):\n",
        "    output = self.model(x)\n",
        "    return output"
      ]
    },
    {
      "cell_type": "markdown",
      "metadata": {
        "id": "b2DrfLiBVjNT"
      },
      "source": [
        "Here is an alternative way to define the same class. You can see that we can replace `nn.Sequential` by defining the individual layers in the `__init__` method and connecting the in the `forward` method. "
      ]
    },
    {
      "cell_type": "code",
      "execution_count": null,
      "metadata": {
        "id": "9-lqhsqwViIk"
      },
      "outputs": [],
      "source": [
        "class MultilayerPerceptron(nn.Module):\n",
        "\n",
        "  def __init__(self, input_size, hidden_size):\n",
        "    # Call to the __init__ function of the super class\n",
        "    super(MultilayerPerceptron, self).__init__()\n",
        "\n",
        "    # Bookkeeping: Saving the initialization parameters\n",
        "    self.input_size = input_size \n",
        "    self.hidden_size = hidden_size \n",
        "\n",
        "    # Defining of our layers\n",
        "    self.linear = nn.Linear(self.input_size, self.hidden_size)\n",
        "    self.relu = nn.ReLU()\n",
        "    self.linear2 = nn.Linear(self.hidden_size, self.input_size)\n",
        "    self.sigmoid = nn.Sigmoid()\n",
        "    \n",
        "  def forward(self, x):\n",
        "    linear = self.linear(x)\n",
        "    relu = self.relu(linear)\n",
        "    linear2 = self.linear2(relu)\n",
        "    output = self.sigmoid(linear2)\n",
        "    return output"
      ]
    },
    {
      "cell_type": "markdown",
      "metadata": {
        "id": "YQelcFo5bXgU"
      },
      "source": [
        "Now that we have defined our class, we can instantiate it and see what it does. "
      ]
    },
    {
      "cell_type": "code",
      "execution_count": null,
      "metadata": {
        "colab": {
          "base_uri": "https://localhost:8080/"
        },
        "id": "cXi0T0FZbV0y",
        "outputId": "1ea607b7-81ba-4093-eb1f-d3776db2ba61"
      },
      "outputs": [
        {
          "output_type": "execute_result",
          "data": {
            "text/plain": [
              "tensor([[0.3667, 0.2072, 0.5586, 0.5846, 0.6923],\n",
              "        [0.4969, 0.3943, 0.4612, 0.5653, 0.6333]], grad_fn=<SigmoidBackward0>)"
            ]
          },
          "metadata": {},
          "execution_count": 301
        }
      ],
      "source": [
        "# Make a sample input\n",
        "input = torch.randn(2, 5)\n",
        "\n",
        "# Create our model\n",
        "model = MultilayerPerceptron(5, 3)\n",
        "\n",
        "# Pass our input through our model\n",
        "model(input)"
      ]
    },
    {
      "cell_type": "markdown",
      "metadata": {
        "id": "tCCbjc-Fb2-B"
      },
      "source": [
        "We can inspect the parameters of our model with `named_parameters()` and `parameters()` methods. "
      ]
    },
    {
      "cell_type": "code",
      "execution_count": null,
      "metadata": {
        "colab": {
          "base_uri": "https://localhost:8080/"
        },
        "id": "7d23soYIb2WZ",
        "outputId": "0ec9bbfe-8887-4998-ee0e-d676edc6ae9e"
      },
      "outputs": [
        {
          "output_type": "execute_result",
          "data": {
            "text/plain": [
              "[('linear.weight',\n",
              "  Parameter containing:\n",
              "  tensor([[-0.0202,  0.2574,  0.2706, -0.4355,  0.4283],\n",
              "          [-0.1086,  0.3142, -0.0358, -0.1629,  0.2113],\n",
              "          [ 0.2223, -0.2101,  0.2866,  0.3826,  0.2946]], requires_grad=True)),\n",
              " ('linear.bias',\n",
              "  Parameter containing:\n",
              "  tensor([-0.2580,  0.3866,  0.3483], requires_grad=True)),\n",
              " ('linear2.weight',\n",
              "  Parameter containing:\n",
              "  tensor([[-0.4348, -0.0011, -0.5596],\n",
              "          [-0.5334, -0.5228, -0.1059],\n",
              "          [ 0.4755, -0.5317,  0.0157],\n",
              "          [-0.0274,  0.2252, -0.3036],\n",
              "          [ 0.0728,  0.4213,  0.1895]], requires_grad=True)),\n",
              " ('linear2.bias',\n",
              "  Parameter containing:\n",
              "  tensor([ 0.4987, -0.0617,  0.1056,  0.4232,  0.1555], requires_grad=True))]"
            ]
          },
          "metadata": {},
          "execution_count": 302
        }
      ],
      "source": [
        "list(model.named_parameters())"
      ]
    },
    {
      "cell_type": "markdown",
      "metadata": {
        "id": "x5JegycOdMFy"
      },
      "source": [
        "## Optimization\n",
        "We have showed how gradients are calculated with the `backward()` function. Having the gradients isn't enought for our models to learn. We also need to know how to update the parameters of our models. This is where the optimizers comes in. `torch.optim` module contains several optimizers that we can use. Some popular examples are `optim.SGD` and `optim.Adam`. When initializing optimizers, we pass our model parameters, which can be accessed with `model.parameters()`, telling the optimizers which values it will be optimizing. Optimizers also has a learning rate (`lr`) parameter, which determines how big of an update will be made in every step. Different optimizers have different hyperparameters as well."
      ]
    },
    {
      "cell_type": "code",
      "execution_count": null,
      "metadata": {
        "id": "W0F-TvV0kk-I"
      },
      "outputs": [],
      "source": [
        "import torch.optim as optim"
      ]
    },
    {
      "cell_type": "markdown",
      "metadata": {
        "id": "wgak6o5dlQWF"
      },
      "source": [
        "After we have our optimization function, we can define a `loss` that we want to optimize for. We can either define the loss ourselves, or use one of the predefined loss function in `PyTorch`, such as `nn.BCELoss()`. Let's put everything together now! We will start by creating some dummy data. "
      ]
    },
    {
      "cell_type": "code",
      "execution_count": null,
      "metadata": {
        "colab": {
          "base_uri": "https://localhost:8080/"
        },
        "id": "dGYFiaT_vXBn",
        "outputId": "467d2e64-ae0c-402e-e5ed-9011bb408108"
      },
      "outputs": [
        {
          "output_type": "execute_result",
          "data": {
            "text/plain": [
              "tensor([[ 1.2360, -0.9130,  1.5164,  1.2933,  0.1257],\n",
              "        [ 1.2833,  0.2427, -0.1094,  1.5745,  2.0203],\n",
              "        [ 1.2817,  0.9969,  1.3306,  0.9687,  2.0823],\n",
              "        [ 0.7909, -0.8294,  2.8758, -0.2345, -0.2390],\n",
              "        [ 1.3710,  2.0926,  0.9763,  1.3623,  0.6309],\n",
              "        [-0.4338,  0.0996, -0.6223,  1.5254,  1.9512],\n",
              "        [-0.2041,  3.4858,  2.1983,  2.3444,  0.2209],\n",
              "        [ 0.4827, -0.0403,  1.9342,  1.8070,  1.0992],\n",
              "        [ 2.0331, -0.5131,  2.0900,  0.2525,  0.5534],\n",
              "        [ 1.4905, -0.1445,  1.5439,  1.7440, -0.3180]])"
            ]
          },
          "metadata": {},
          "execution_count": 304
        }
      ],
      "source": [
        "# Create the y data\n",
        "y = torch.ones(10, 5)\n",
        "\n",
        "# Add some noise to our goal y to generate our x\n",
        "# We want our model to predict our original data, albeit the noise\n",
        "x = y + torch.randn_like(y)\n",
        "x"
      ]
    },
    {
      "cell_type": "markdown",
      "metadata": {
        "id": "BEsiOdpWvfLj"
      },
      "source": [
        "Now, we can define our model, optimizer and the loss function. "
      ]
    },
    {
      "cell_type": "code",
      "execution_count": null,
      "metadata": {
        "colab": {
          "base_uri": "https://localhost:8080/"
        },
        "id": "2oA2XsdsbN8p",
        "outputId": "434bdb71-baf1-47cd-d813-e963aa956d0e"
      },
      "outputs": [
        {
          "output_type": "execute_result",
          "data": {
            "text/plain": [
              "0.8469886183738708"
            ]
          },
          "metadata": {},
          "execution_count": 305
        }
      ],
      "source": [
        "# Instantiate the model\n",
        "model = MultilayerPerceptron(5, 3)\n",
        "\n",
        "# Define the optimizer\n",
        "adam = optim.Adam(model.parameters(), lr=1e-1)\n",
        "\n",
        "# Define loss using a predefined loss function\n",
        "loss_function = nn.BCELoss()\n",
        "\n",
        "# Calculate how our model is doing now\n",
        "y_pred = model(x)\n",
        "loss_function(y_pred, y).item()"
      ]
    },
    {
      "cell_type": "markdown",
      "metadata": {
        "id": "8swVAJuFrxS4"
      },
      "source": [
        "<font color=\"yellow\">QUIZ: With nn.BCELoss, calculate the loss over first 3 columns of the second row of values</font>"
      ]
    },
    {
      "cell_type": "code",
      "execution_count": null,
      "metadata": {
        "id": "EZbxu7ljrxS5",
        "colab": {
          "base_uri": "https://localhost:8080/"
        },
        "outputId": "495fd689-b631-4a7e-e98e-8f9001306a89"
      },
      "outputs": [
        {
          "output_type": "stream",
          "name": "stdout",
          "text": [
            "tensor(0.8133, grad_fn=<BinaryCrossEntropyBackward0>)\n"
          ]
        }
      ],
      "source": [
        "bce_loss = nn.BCELoss()\n",
        "selected_x = x\n",
        "selected_y = y[1, :3]\n",
        "predicted_y = model(selected_x)\n",
        "loss = bce_loss(predicted_y[1, :3], selected_y)\n",
        "print(loss)"
      ]
    },
    {
      "cell_type": "markdown",
      "metadata": {
        "id": "gtxU7Y8ZufSR"
      },
      "source": [
        "Let's see if we can have our model achieve a smaller loss. Now that we have everything we need, we can setup our training loop. "
      ]
    },
    {
      "cell_type": "code",
      "execution_count": null,
      "metadata": {
        "colab": {
          "base_uri": "https://localhost:8080/"
        },
        "id": "ogl6-Ctmuek6",
        "outputId": "514db630-5a72-441d-8582-827445ae9934"
      },
      "outputs": [
        {
          "output_type": "stream",
          "name": "stdout",
          "text": [
            "Epoch 0: traing loss: 0.8469886183738708\n",
            "Epoch 1: traing loss: 0.74440598487854\n",
            "Epoch 2: traing loss: 0.6378065347671509\n",
            "Epoch 3: traing loss: 0.5201603174209595\n",
            "Epoch 4: traing loss: 0.39610522985458374\n",
            "Epoch 5: traing loss: 0.2793712913990021\n",
            "Epoch 6: traing loss: 0.18274006247520447\n",
            "Epoch 7: traing loss: 0.11010976880788803\n",
            "Epoch 8: traing loss: 0.060995206236839294\n",
            "Epoch 9: traing loss: 0.03149003908038139\n"
          ]
        }
      ],
      "source": [
        "# Set the number of epoch, which determines the number of training iterations\n",
        "n_epoch = 10 \n",
        "\n",
        "for epoch in range(n_epoch):\n",
        "  # Set the gradients to 0\n",
        "  adam.zero_grad()\n",
        "\n",
        "  # Get the model predictions\n",
        "  y_pred = model(x)\n",
        "\n",
        "  # Get the loss\n",
        "  loss = loss_function(y_pred, y)\n",
        "\n",
        "  # Print stats\n",
        "  print(f\"Epoch {epoch}: traing loss: {loss}\")\n",
        "\n",
        "  # Compute the gradients\n",
        "  loss.backward()\n",
        "\n",
        "  # Take a step to optimize the weights\n",
        "  adam.step()\n"
      ]
    },
    {
      "cell_type": "code",
      "execution_count": null,
      "metadata": {
        "colab": {
          "base_uri": "https://localhost:8080/"
        },
        "id": "ZrMJ8AmqeCY-",
        "outputId": "9a1f7e47-730a-41e3-c187-601bbb1afe8b"
      },
      "outputs": [
        {
          "output_type": "execute_result",
          "data": {
            "text/plain": [
              "[('linear.weight',\n",
              "  Parameter containing:\n",
              "  tensor([[ 0.9424,  0.1138,  0.8373,  0.6630,  1.1985],\n",
              "          [-0.1792, -0.1132, -0.8312, -0.4673, -0.5138],\n",
              "          [-0.0091, -0.2402, -0.3734,  0.1287, -0.3684]], requires_grad=True)),\n",
              " ('linear.bias',\n",
              "  Parameter containing:\n",
              "  tensor([ 1.2712, -0.2312,  0.1345], requires_grad=True)),\n",
              " ('linear2.weight',\n",
              "  Parameter containing:\n",
              "  tensor([[ 1.3198,  0.1759, -0.5614],\n",
              "          [ 0.8983,  0.5903,  0.0034],\n",
              "          [ 0.6828,  0.2070, -0.5091],\n",
              "          [ 0.4690,  0.0154,  0.3085],\n",
              "          [ 1.4460,  0.5229, -0.5074]], requires_grad=True)),\n",
              " ('linear2.bias',\n",
              "  Parameter containing:\n",
              "  tensor([0.4029, 0.8780, 0.7362, 0.5679, 0.4475], requires_grad=True))]"
            ]
          },
          "metadata": {},
          "execution_count": 308
        }
      ],
      "source": [
        "list(model.named_parameters())"
      ]
    },
    {
      "cell_type": "markdown",
      "metadata": {
        "id": "4nXApd82wlsF"
      },
      "source": [
        "You can see that our loss is decreasing. Let's check the predictions of our model now and see if they are close to our original `y`, which was all `1s`. "
      ]
    },
    {
      "cell_type": "code",
      "execution_count": null,
      "metadata": {
        "colab": {
          "base_uri": "https://localhost:8080/"
        },
        "id": "gRqE7P9EtvuS",
        "outputId": "51a6d9e7-ce92-4a6d-b133-b53309aded97"
      },
      "outputs": [
        {
          "output_type": "execute_result",
          "data": {
            "text/plain": [
              "tensor([[0.9985, 0.9934, 0.9798, 0.9388, 0.9992],\n",
              "        [0.9997, 0.9979, 0.9914, 0.9653, 0.9999],\n",
              "        [0.9999, 0.9991, 0.9955, 0.9776, 1.0000],\n",
              "        [0.9961, 0.9875, 0.9674, 0.9162, 0.9977],\n",
              "        [0.9994, 0.9964, 0.9871, 0.9545, 0.9997],\n",
              "        [0.9950, 0.9853, 0.9632, 0.9092, 0.9970],\n",
              "        [0.9992, 0.9959, 0.9858, 0.9515, 0.9996],\n",
              "        [0.9997, 0.9978, 0.9913, 0.9649, 0.9999],\n",
              "        [0.9996, 0.9975, 0.9904, 0.9625, 0.9998],\n",
              "        [0.9987, 0.9941, 0.9814, 0.9419, 0.9993]], grad_fn=<SigmoidBackward0>)"
            ]
          },
          "metadata": {},
          "execution_count": 309
        }
      ],
      "source": [
        "# See how our model performs on the training data\n",
        "y_pred = model(x)\n",
        "y_pred"
      ]
    },
    {
      "cell_type": "code",
      "execution_count": null,
      "metadata": {
        "colab": {
          "base_uri": "https://localhost:8080/"
        },
        "id": "IJng31_Pi2R6",
        "outputId": "893d63a8-7988-4947-bb3d-aa876b39faac"
      },
      "outputs": [
        {
          "output_type": "execute_result",
          "data": {
            "text/plain": [
              "tensor([[0.9989, 0.9947, 0.9828, 0.9448, 0.9994],\n",
              "        [0.9989, 0.9949, 0.9832, 0.9457, 0.9995],\n",
              "        [0.9943, 0.9839, 0.9607, 0.9053, 0.9965],\n",
              "        [0.9901, 0.9768, 0.9484, 0.8872, 0.9937],\n",
              "        [0.9985, 0.9936, 0.9801, 0.9394, 0.9992],\n",
              "        [0.9992, 0.9957, 0.9853, 0.9503, 0.9996],\n",
              "        [0.9979, 0.9919, 0.9765, 0.9322, 0.9989],\n",
              "        [1.0000, 0.9995, 0.9971, 0.9832, 1.0000],\n",
              "        [0.9996, 0.9973, 0.9896, 0.9605, 0.9998],\n",
              "        [0.9942, 0.9850, 0.9587, 0.9135, 0.9965]], grad_fn=<SigmoidBackward0>)"
            ]
          },
          "metadata": {},
          "execution_count": 310
        }
      ],
      "source": [
        "# Create test data and check how our model performs on it\n",
        "x2 = y + torch.randn_like(y)\n",
        "y_pred = model(x2)\n",
        "y_pred"
      ]
    },
    {
      "cell_type": "markdown",
      "metadata": {
        "id": "8WNk6oIZw2xo"
      },
      "source": [
        "Great! Looks like our model almost perfectly learned to filter out the noise from the `x` that we passed in!"
      ]
    },
    {
      "cell_type": "markdown",
      "metadata": {
        "id": "1u4aU-dtrxS6"
      },
      "source": [
        "# <font color=\"yellow\">Intermission: 5 min</font>"
      ]
    },
    {
      "cell_type": "markdown",
      "metadata": {
        "id": "P8rUNk_1xG1v"
      },
      "source": [
        "## Demo: Word Window Classification\n",
        "\n",
        "Until this part of the notebook, we have learned the fundamentals of PyTorch and built a basic network solving a toy task. Now we will attempt to solve an example NLP task. Here are the things we will learn:\n",
        "\n",
        "1. Data: Creating a Dataset of Batched Tensors\n",
        "2. Modeling\n",
        "3. Training\n",
        "4. Prediction\n",
        "\n",
        "In this section, our goal will be to train a model that will find the words in a sentence corresponding to a `LOCATION`, which will be always of span `1` (meaning that `San Fransisco` won't be recognized as a `LOCATION`). Our task is called `Word Window Classification` for a reason. Instead of letting our model to only take a look at one word in each forward pass, we would like it to be able to consider the context of the word in question. That is, for each word, we want our model to be aware of the surrounding words. Let's dive in!"
      ]
    },
    {
      "cell_type": "markdown",
      "metadata": {
        "id": "_amzuUx8BJXI"
      },
      "source": [
        "### Data\n",
        "\n",
        "The very first task of any machine learning project is to set up our training set. Usually, there will be a training corpus we will be utilizing. In NLP tasks, the corpus would generally be a `.txt` or `.csv` file where each row corresponds to a sentence or a tabular datapoint. In our toy task, we will assume that we have already read our data and the corresponding labels into a `Python` list."
      ]
    },
    {
      "cell_type": "code",
      "execution_count": null,
      "metadata": {
        "id": "mDiI1PLMw10z"
      },
      "outputs": [],
      "source": [
        "# Our raw data, which consists of sentences\n",
        "corpus = [\n",
        "          \"We always come to Paris\",\n",
        "          \"The professor is from Australia\",\n",
        "          \"I live in Stanford\",\n",
        "          \"He comes from Taiwan\",\n",
        "          \"The capital of Turkey is Ankara\"\n",
        "         ]"
      ]
    },
    {
      "cell_type": "markdown",
      "metadata": {
        "id": "t33Uke9AE22s"
      },
      "source": [
        "#### Preprocessing\n",
        "\n",
        "To make it easier for our models to learn, we usually apply a few preprocessing steps to our data. This is especially important when dealing with text data. Here are some examples of text preprocessing:\n",
        "* **Tokenization**: Tokenizing the sentences into words.\n",
        "* **Lowercasing**: Changing all the letters to be lowercase. <font color=\"yellow\">Example?</font>\n",
        "* **Noise removal:** Removing special characters (such as punctuations). <font color=\"yellow\">Example?</font>\n",
        "* **Stop words removal**: Removing commonly used words. <font color=\"yellow\">Example?</font>\n",
        "\n",
        "Which preprocessing steps are necessary is determined by the task at hand. For example, although it is useful to remove special characters in some tasks, for others they may be important (for example, if we are dealing with multiple languages). For our task, we will lowercase our words and tokenize. \n"
      ]
    },
    {
      "cell_type": "code",
      "execution_count": null,
      "metadata": {
        "colab": {
          "base_uri": "https://localhost:8080/"
        },
        "id": "fTGn8ANTzZXT",
        "outputId": "7a9ce02e-9dfa-4e9a-db83-500a1018f47f"
      },
      "outputs": [
        {
          "output_type": "execute_result",
          "data": {
            "text/plain": [
              "[['we', 'always', 'come', 'to', 'paris'],\n",
              " ['the', 'professor', 'is', 'from', 'australia'],\n",
              " ['i', 'live', 'in', 'stanford'],\n",
              " ['he', 'comes', 'from', 'taiwan'],\n",
              " ['the', 'capital', 'of', 'turkey', 'is', 'ankara']]"
            ]
          },
          "metadata": {},
          "execution_count": 312
        }
      ],
      "source": [
        "# The preprocessing function we will use to generate our training examples\n",
        "# Our function is a simple one, we lowercase the letters\n",
        "# and then tokenize the words.\n",
        "def preprocess_sentence(sentence):\n",
        "  return sentence.lower().split()\n",
        "\n",
        "# Create our training set\n",
        "train_sentences = [preprocess_sentence(sent) for sent in corpus]\n",
        "train_sentences"
      ]
    },
    {
      "cell_type": "markdown",
      "metadata": {
        "id": "k4jzo5tp0Hza"
      },
      "source": [
        "For each training example we have, we should also have a corresponding label. Recall that the goal of our model was to determine which words correspond to a `LOCATION`. That is, we want our model to output `0` for all the words that are not `LOCATION`s and `1` for the ones that are `LOCATION`s."
      ]
    },
    {
      "cell_type": "code",
      "execution_count": null,
      "metadata": {
        "colab": {
          "base_uri": "https://localhost:8080/"
        },
        "id": "3wo1kcMAHFw7",
        "outputId": "ca37b0b7-4a50-40d7-fa09-a70140fd13a3"
      },
      "outputs": [
        {
          "output_type": "execute_result",
          "data": {
            "text/plain": [
              "[[0, 0, 0, 0, 1],\n",
              " [0, 0, 0, 0, 1],\n",
              " [0, 0, 0, 1],\n",
              " [0, 0, 0, 1],\n",
              " [0, 0, 0, 1, 0, 1]]"
            ]
          },
          "metadata": {},
          "execution_count": 313
        }
      ],
      "source": [
        "# Set of locations that appear in our corpus\n",
        "locations = set([\"australia\", \"ankara\", \"paris\", \"stanford\", \"taiwan\", \"turkey\"])\n",
        "\n",
        "# Our train labels\n",
        "train_labels = [[1 if word in locations else 0 for word in sent] for sent in train_sentences]\n",
        "train_labels"
      ]
    },
    {
      "cell_type": "markdown",
      "metadata": {
        "id": "qgVKH9M3RtPx"
      },
      "source": [
        "#### Converting Words to Embeddings\n",
        "\n",
        "Let's look at our training data a little more closely. Each datapoint we have is a sequence of words. On the other hand, we know that machine learning models work with numbers in vectors. How are we going to turn words into numbers? You may be thinking embeddings and you are right!\n",
        "\n",
        "Imagine that we have an embedding lookup table `E`, where each row corresponds to an embedding. That is, each word in our vocabulary would have a corresponding embedding row `i` in this table. Whenever we want to find an embedding for a word, we will follow these steps:\n",
        "1. Find the corresponding index `i` of the word in the embedding table: `word->index`.\n",
        "2. Index into the embedding table and get the embedding: `index->embedding`.\n",
        "\n",
        "Let's look at the first step. We should assign all the words in our vocabulary to a corresponding index. We can do it as follows:\n",
        "1. Find all the unique words in our corpus. <font color=\"yellow\">How?</font>\n",
        "2. Assign an index to each."
      ]
    },
    {
      "cell_type": "code",
      "execution_count": null,
      "metadata": {
        "colab": {
          "base_uri": "https://localhost:8080/"
        },
        "id": "SjTDlfPyVp5z",
        "outputId": "a2df5075-0b15-457d-8c49-f0b90aaadeca"
      },
      "outputs": [
        {
          "output_type": "execute_result",
          "data": {
            "text/plain": [
              "{'always',\n",
              " 'ankara',\n",
              " 'australia',\n",
              " 'capital',\n",
              " 'come',\n",
              " 'comes',\n",
              " 'from',\n",
              " 'he',\n",
              " 'i',\n",
              " 'in',\n",
              " 'is',\n",
              " 'live',\n",
              " 'of',\n",
              " 'paris',\n",
              " 'professor',\n",
              " 'stanford',\n",
              " 'taiwan',\n",
              " 'the',\n",
              " 'to',\n",
              " 'turkey',\n",
              " 'we'}"
            ]
          },
          "metadata": {},
          "execution_count": 314
        }
      ],
      "source": [
        "# Find all the unique words in our corpus \n",
        "vocabulary = set(w for s in train_sentences for w in s)\n",
        "vocabulary"
      ]
    },
    {
      "cell_type": "markdown",
      "metadata": {
        "id": "IOxnKznOWXSC"
      },
      "source": [
        "`vocabulary` now contains all the words in our corpus. On the other hand, <font color=\"yellow\">during the test time, we can see words that are not contained in our vocabulary.</font> If we can figure out a way to represent the unknown words, our model can still reason about whether they are a `LOCATION` or not, since we are also looking at the neighboring words for each prediction. \n",
        "\n",
        "We introduce a special token, `<unk>`, to tackle the words that are out of vocabulary. We could pick another string for our unknown token if we wanted. The only requirement here is that our token should be unique: we should only be using this token for unknown words. We will also add this special token to our vocabulary. "
      ]
    },
    {
      "cell_type": "code",
      "execution_count": null,
      "metadata": {
        "id": "ygxYuE1DYeR3"
      },
      "outputs": [],
      "source": [
        "# Add the unknown token to our vocabulary\n",
        "vocabulary.add(\"<unk>\")"
      ]
    },
    {
      "cell_type": "markdown",
      "metadata": {
        "id": "Bsf4haL94AFu"
      },
      "source": [
        "Earlier we mentioned that our task was called `Word Window Classification` because our model is looking at the surroundings words in addition to the given word when it needs to make a prediction. \n",
        "\n",
        "For example, let's take the sentence \"We always come to Paris\". The corresponding training label for this sentence is `0, 0, 0, 0, 1` since only Paris, the last word, is a `LOCATION`. In one pass (meaning a call to `forward()`), our model will try to generate the correct label for one word. Let's say our model is trying to generate the correct label `1` for `Paris`. If we only allow our model to see `Paris`, but nothing else, we will miss out on the important information that the word `to` often times appears with `LOCATION`s. \n",
        "\n",
        "Word windows allow our model to consider the surrounding `+N` or `-N` words of each word when making a prediction. In our earlier example for `Paris`, if we have a window size of 1, that means our model will look at the words that come immediately before and after `Paris`, which are `to`, and, well, nothing. Now, this raises another issue. `Paris` is at the end of our sentence, so there isn't another word following it. Remember that we define the input dimensions of our `PyTorch` models when we are initializing them. If we set the window size to be `1`, it means that our model will be accepting `3` words in every pass. We cannot have our model expect `2` words from time to time.\n",
        "\n",
        "The solution is to introduce a special token, such as `<pad>`, that will be added to our sentences to make sure that every word has a valid window around them. Similar to `<unk>` token, we could pick another string for our pad token if we wanted, as long as we make sure it is used for a unique purpose. "
      ]
    },
    {
      "cell_type": "code",
      "execution_count": null,
      "metadata": {
        "colab": {
          "base_uri": "https://localhost:8080/"
        },
        "id": "ZVQsjYi6ZegI",
        "outputId": "f38396db-ec7f-47d9-a39c-7800d4080323"
      },
      "outputs": [
        {
          "output_type": "execute_result",
          "data": {
            "text/plain": [
              "['<pad>', '<pad>', 'we', 'always', 'come', 'to', 'paris', '<pad>', '<pad>']"
            ]
          },
          "metadata": {},
          "execution_count": 316
        }
      ],
      "source": [
        "# Add the <pad> token to our vocabulary\n",
        "vocabulary.add(\"<pad>\")\n",
        "\n",
        "# Function that pads the given sentence\n",
        "# We are introducing this function here as an example\n",
        "# We will be utilizing it later in the tutorial\n",
        "def pad_window(sentence, window_size, pad_token=\"<pad>\"):\n",
        "  window = [pad_token] * window_size\n",
        "  return window + sentence + window\n",
        "\n",
        "# Show padding example\n",
        "window_size = 2\n",
        "pad_window(train_sentences[0], window_size=window_size)"
      ]
    },
    {
      "cell_type": "markdown",
      "metadata": {
        "id": "cqvgWKwSNpAd"
      },
      "source": [
        "Now that our vocabularly is ready, let's assign an index to each of our words. "
      ]
    },
    {
      "cell_type": "code",
      "execution_count": null,
      "metadata": {
        "colab": {
          "base_uri": "https://localhost:8080/"
        },
        "id": "BNCTQnKDa4oh",
        "outputId": "cef9913a-5005-40c9-c8bf-4c094b53f7be"
      },
      "outputs": [
        {
          "output_type": "execute_result",
          "data": {
            "text/plain": [
              "{'<pad>': 0,\n",
              " '<unk>': 1,\n",
              " 'always': 2,\n",
              " 'ankara': 3,\n",
              " 'australia': 4,\n",
              " 'capital': 5,\n",
              " 'come': 6,\n",
              " 'comes': 7,\n",
              " 'from': 8,\n",
              " 'he': 9,\n",
              " 'i': 10,\n",
              " 'in': 11,\n",
              " 'is': 12,\n",
              " 'live': 13,\n",
              " 'of': 14,\n",
              " 'paris': 15,\n",
              " 'professor': 16,\n",
              " 'stanford': 17,\n",
              " 'taiwan': 18,\n",
              " 'the': 19,\n",
              " 'to': 20,\n",
              " 'turkey': 21,\n",
              " 'we': 22}"
            ]
          },
          "metadata": {},
          "execution_count": 317
        }
      ],
      "source": [
        "# We are just converting our vocabularly to a list to be able to index into it\n",
        "# Sorting is not necessary, we sort to show an ordered word_to_ind dictionary\n",
        "# That being said, we will see that having the index for the padding token\n",
        "# be 0 is convenient as some PyTorch functions use it as a default value\n",
        "# such as nn.utils.rnn.pad_sequence, which we will cover in a bit\n",
        "ix_to_word = sorted(list(vocabulary))\n",
        "\n",
        "# Creating a dictionary to find the index of a given word\n",
        "word_to_ix = {word: ind for ind, word in enumerate(ix_to_word)}\n",
        "word_to_ix"
      ]
    },
    {
      "cell_type": "code",
      "execution_count": null,
      "metadata": {
        "colab": {
          "base_uri": "https://localhost:8080/"
        },
        "id": "pt-0SK67hMVo",
        "outputId": "a64d3218-fb1a-4764-d58c-fff08c8e835e"
      },
      "outputs": [
        {
          "output_type": "stream",
          "name": "stdout",
          "text": [
            "<unk>\n",
            "1\n"
          ]
        }
      ],
      "source": [
        "print(ix_to_word[1])\n",
        "print(word_to_ix['<unk>'])"
      ]
    },
    {
      "cell_type": "markdown",
      "metadata": {
        "id": "ELZuteqbdWd1"
      },
      "source": [
        "Great! We are ready to convert our training sentences into a sequence of indices corresponding to each token. "
      ]
    },
    {
      "cell_type": "code",
      "execution_count": null,
      "metadata": {
        "colab": {
          "base_uri": "https://localhost:8080/"
        },
        "id": "ZNOxip15bMfH",
        "outputId": "b8f5e1d6-7bc2-4595-f1ec-3fd90f783e03"
      },
      "outputs": [
        {
          "output_type": "stream",
          "name": "stdout",
          "text": [
            "Original sentence is: ['we', 'always', 'come', 'to', 'kuwait']\n",
            "Going from words to indices: [22, 2, 6, 20, 1]\n",
            "Going from indices to words: ['we', 'always', 'come', 'to', '<unk>']\n"
          ]
        }
      ],
      "source": [
        "# Given a sentence of tokens, return the corresponding indices\n",
        "def convert_token_to_indices(sentence, word_to_ix):\n",
        "  indices = []\n",
        "  for token in sentence:\n",
        "    # Check if the token is in our vocabularly. If it is, get it's index. \n",
        "    # If not, get the index for the unknown token.\n",
        "    if token in word_to_ix:\n",
        "      index = word_to_ix[token]\n",
        "    else:\n",
        "      index = word_to_ix[\"<unk>\"]\n",
        "    indices.append(index)\n",
        "  return indices\n",
        "\n",
        "# More compact version of the same function\n",
        "def _convert_token_to_indices(sentence, word_to_ix):\n",
        "  return [word_to_ix.get(token, word_to_ix[\"<unk>\"]) for token in sentence]\n",
        "\n",
        "# Show an example\n",
        "example_sentence = [\"we\", \"always\", \"come\", \"to\", \"kuwait\"]\n",
        "example_indices = convert_token_to_indices(example_sentence, word_to_ix)\n",
        "restored_example = [ix_to_word[ind] for ind in example_indices]\n",
        "\n",
        "print(f\"Original sentence is: {example_sentence}\")\n",
        "print(f\"Going from words to indices: {example_indices}\")\n",
        "print(f\"Going from indices to words: {restored_example}\")"
      ]
    },
    {
      "cell_type": "markdown",
      "metadata": {
        "id": "_jsXw8cB1xpH"
      },
      "source": [
        "In the example above, `kuwait` shows up as `<unk>`, because it is not included in our vocabulary. Let's convert our `train_sentences` to `example_padded_indices`. "
      ]
    },
    {
      "cell_type": "code",
      "execution_count": null,
      "metadata": {
        "colab": {
          "base_uri": "https://localhost:8080/"
        },
        "id": "JRaKQwSJH-1d",
        "outputId": "2cd9a06c-1564-4775-9f40-0942c463dc1d"
      },
      "outputs": [
        {
          "output_type": "execute_result",
          "data": {
            "text/plain": [
              "[[22, 2, 6, 20, 15],\n",
              " [19, 16, 12, 8, 4],\n",
              " [10, 13, 11, 17],\n",
              " [9, 7, 8, 18],\n",
              " [19, 5, 14, 21, 12, 3]]"
            ]
          },
          "metadata": {},
          "execution_count": 320
        }
      ],
      "source": [
        "# Converting our sentences to indices\n",
        "example_padded_indices = [convert_token_to_indices(s, word_to_ix) for s in train_sentences]\n",
        "example_padded_indices"
      ]
    },
    {
      "cell_type": "markdown",
      "metadata": {
        "id": "JZULjHBjHsEK"
      },
      "source": [
        "Now that we have an index for each word in our vocabularly, we can create an embedding table with `nn.Embedding` class in `PyTorch`. It is called as follows `nn.Embedding(num_words, embedding_dimension)` where `num_words` is the number of words in our vocabulary and the `embedding_dimension` is the dimension of the embeddings we want to have. There is nothing fancy about <font color=\"yellow\">`nn.Embedding`: it is just a wrapper class around a trainabe `NxE` dimensional tensor, where `N` is the number of words in our vocabulary and `E` is the number of embedding dimensions.</font> This table is initially random, but it will change over time. As we train our network, the gradients will be backpropagated all the way to the embedding layer, and hence our word embeddings would be updated. We will initiliaze the embedding layer we will use for our model in our model, but we are showing an example here. "
      ]
    },
    {
      "cell_type": "code",
      "execution_count": null,
      "metadata": {
        "colab": {
          "base_uri": "https://localhost:8080/"
        },
        "id": "F4AgHzv91VXx",
        "outputId": "d6ad7f85-51bf-4944-e3a5-7e31b5fcff36"
      },
      "outputs": [
        {
          "output_type": "execute_result",
          "data": {
            "text/plain": [
              "[('weight',\n",
              "  Parameter containing:\n",
              "  tensor([[ 1.0781, -0.5413, -1.0346,  1.2770,  1.7493],\n",
              "          [-1.5585,  1.0367,  0.4384,  2.0158,  0.1547],\n",
              "          [-0.7132, -0.1381,  0.5172,  0.0149,  1.5511],\n",
              "          [ 0.6399, -0.4548,  1.0628, -0.4941, -2.3225],\n",
              "          [ 0.7932, -1.1535, -0.2151,  1.7169, -0.6848],\n",
              "          [-1.9344,  1.5202, -0.5899, -0.4525,  0.3289],\n",
              "          [ 1.3942,  0.9124, -1.5715,  1.1645,  0.6571],\n",
              "          [ 1.0685,  0.4780,  0.7672,  0.5210, -0.3649],\n",
              "          [ 1.3358, -2.2391, -0.5278,  0.8307, -0.9483],\n",
              "          [-0.0711,  0.6019,  1.9486, -0.7811, -0.8615],\n",
              "          [ 0.0629,  0.6152, -0.2887,  0.6444, -0.2747],\n",
              "          [-0.7086,  0.3161,  1.3550, -0.9230, -0.8687],\n",
              "          [ 0.4263, -1.2136,  0.0098,  1.4391,  2.3499],\n",
              "          [-1.2312,  1.0711,  0.1554, -0.9913, -0.1772],\n",
              "          [-0.8120,  0.0983, -0.6405,  0.1725, -0.3188],\n",
              "          [-0.3981,  0.0933,  0.4676,  0.7030,  2.1301],\n",
              "          [ 0.2259, -0.5398,  0.3233,  0.1002,  0.3384],\n",
              "          [-0.0339, -0.1182,  1.2980,  0.3470, -0.5754],\n",
              "          [-0.2332,  0.2013, -0.1513,  0.4119, -0.0324],\n",
              "          [ 1.2472,  1.4849,  1.4092,  0.5116, -0.5682],\n",
              "          [ 0.4117, -0.5926,  1.5174, -0.4464,  1.7225],\n",
              "          [ 0.3444, -2.6759, -0.3871,  1.2663, -0.7525],\n",
              "          [ 0.5246,  1.9047,  1.5597, -2.3754, -0.4507]], requires_grad=True))]"
            ]
          },
          "metadata": {},
          "execution_count": 321
        }
      ],
      "source": [
        "# Creating an embedding table for our words\n",
        "embedding_dim = 5\n",
        "embeds = nn.Embedding(len(vocabulary), embedding_dim)\n",
        "\n",
        "# Printing the parameters in our embedding table\n",
        "list(embeds.named_parameters())"
      ]
    },
    {
      "cell_type": "markdown",
      "metadata": {
        "id": "wI7ZTt4OkpPp"
      },
      "source": [
        "To get the word embedding for a word in our vocabulary, all we need to do is to create a lookup tensor. The lookup tensor is just a tensor containing the index we want to look up `nn.Embedding` class expects an index tensor that is of type Long Tensor, so we should create our tensor accordingly. "
      ]
    },
    {
      "cell_type": "code",
      "execution_count": null,
      "metadata": {
        "colab": {
          "base_uri": "https://localhost:8080/"
        },
        "id": "nkldmcepjfh_",
        "outputId": "adf6606b-81b8-4e4d-84e3-734200ec7514"
      },
      "outputs": [
        {
          "output_type": "execute_result",
          "data": {
            "text/plain": [
              "tensor([-0.3981,  0.0933,  0.4676,  0.7030,  2.1301],\n",
              "       grad_fn=<EmbeddingBackward0>)"
            ]
          },
          "metadata": {},
          "execution_count": 322
        }
      ],
      "source": [
        "# Get the embedding for the word Paris\n",
        "index = word_to_ix[\"paris\"]\n",
        "index_tensor = torch.tensor(index, dtype=torch.long)\n",
        "paris_embed = embeds(index_tensor)\n",
        "paris_embed"
      ]
    },
    {
      "cell_type": "code",
      "execution_count": null,
      "metadata": {
        "id": "3whkMae6rxS9"
      },
      "outputs": [],
      "source": [
        "# embeds(index) # throws: TypeError: embedding(): argument 'indices' (position 2) must be Tensor, not int"
      ]
    },
    {
      "cell_type": "code",
      "execution_count": null,
      "metadata": {
        "colab": {
          "base_uri": "https://localhost:8080/"
        },
        "id": "mUsdwBOxm6B4",
        "outputId": "9eb6b08a-df52-4918-f6a2-07a4bb70a4dd"
      },
      "outputs": [
        {
          "output_type": "execute_result",
          "data": {
            "text/plain": [
              "tensor([[-0.3981,  0.0933,  0.4676,  0.7030,  2.1301],\n",
              "        [ 0.6399, -0.4548,  1.0628, -0.4941, -2.3225]],\n",
              "       grad_fn=<EmbeddingBackward0>)"
            ]
          },
          "metadata": {},
          "execution_count": 324
        }
      ],
      "source": [
        "# We can also get multiple embeddings at once\n",
        "index_paris = word_to_ix[\"paris\"]\n",
        "index_ankara = word_to_ix[\"ankara\"]\n",
        "indices = [index_paris, index_ankara]\n",
        "indices_tensor = torch.tensor(indices, dtype=torch.long)\n",
        "embeddings = embeds(indices_tensor)\n",
        "embeddings"
      ]
    },
    {
      "cell_type": "markdown",
      "metadata": {
        "id": "2bgSW3LPltkF"
      },
      "source": [
        "Usually, we define the embedding layer as part of our model, which you will see in the later sections of our notebook. "
      ]
    },
    {
      "cell_type": "markdown",
      "metadata": {
        "id": "DHCXeQOamHU1"
      },
      "source": [
        "#### Batching Sentences\n",
        "\n",
        "We have learned about batches in class. Waiting our whole training corpus to be processed before making an update is constly. On the other hand, updating the parameters after every training example causes the loss to be less stable between updates. To combat these issues, we instead update our parameters after training on a batch of data. This allows us to get a better estimate of the gradient of the global loss. In this section, we will learn how to structure our data into batches using the `torch.util.data.DataLoader` class. \n",
        "\n",
        "We will be calling the `DataLoader` class as follows: `DataLoader(data, batch_size=batch_size, shuffle=True, collate_fn=collate_fn)`.  The `batch_size` parameter determines the number of examples per batch. In every epoch, we will be iterating over all the batches using the `DataLoader`. The order of batches is deterministic by default, but we can ask `DataLoader` to shuffle the batches by setting the `shuffle` parameter to `True`. This way we ensure that we don't encounter a bad batch multiple times.\n",
        "\n",
        "If provided, `DataLoader` passes the batches it prepares to the `collate_fn`. We can write a custom function to pass to the `collate_fn` parameter in order to print stats about our batch or perform extra processing. In our case, we will use the `collate_fn` to:\n",
        "1. Window pad our train sentences.\n",
        "2. Convert the words in the training examples to indices.\n",
        "3. Pad the training examples so that all the sentences and labels have the same length. Similarly, we also need to pad the labels. This creates an issue because when calculating the loss, we need to know the actual number of words in a given example. We will also keep track of this number in the function we pass to the `collate_fn` parameter.\n",
        "\n",
        "Because our version of the `collate_fn` function will need to access to our `word_to_ix` dictionary (so that it can turn words into indices), we will make use of the `partial` function in `Python`, which passes the parameters we give to the function we pass it. "
      ]
    },
    {
      "cell_type": "code",
      "execution_count": null,
      "metadata": {
        "id": "OkvvVlo4jgFm"
      },
      "outputs": [],
      "source": [
        "from torch.utils.data import DataLoader\n",
        "from functools import partial\n",
        "\n",
        "def custom_collate_fn(batch, window_size, word_to_ix):\n",
        "  # Break our batch into the training examples (x) and labels (y)\n",
        "  # We are turning our x and y into tensors because nn.utils.rnn.pad_sequence\n",
        "  # method expects tensors. This is also useful since our model will be\n",
        "  # expecting tensor inputs. \n",
        "  x, y = zip(*batch)\n",
        "\n",
        "  # Now we need to window pad our training examples. We have already defined a \n",
        "  # function to handle window padding. We are including it here again so that\n",
        "  # everything is in one place.\n",
        "  def pad_window(sentence, window_size, pad_token=\"<pad>\"):\n",
        "    window = [pad_token] * window_size\n",
        "    return window + sentence + window\n",
        "\n",
        "  # Pad the train examples.\n",
        "  x = [pad_window(s, window_size=window_size) for s in x]\n",
        "\n",
        "  # Now we need to turn words in our training examples to indices. We are\n",
        "  # copying the function defined earlier for the same reason as above.\n",
        "  def convert_tokens_to_indices(sentence, word_to_ix):\n",
        "    return [word_to_ix.get(token, word_to_ix[\"<unk>\"]) for token in sentence]\n",
        "\n",
        "  # Convert the train examples into indices.\n",
        "  x = [convert_tokens_to_indices(s, word_to_ix) for s in x]\n",
        "\n",
        "  # We will now pad the examples so that the lengths of all the example in \n",
        "  # one batch are the same, making it possible to do matrix operations. \n",
        "  # We set the batch_first parameter to True so that the returned matrix has \n",
        "  # the batch as the first dimension.\n",
        "  pad_token_ix = word_to_ix[\"<pad>\"]\n",
        "\n",
        "  # pad_sequence function expects the input to be a tensor, so we turn x into one\n",
        "  x = [torch.LongTensor(x_i) for x_i in x]\n",
        "  x_padded = nn.utils.rnn.pad_sequence(x, batch_first=True, padding_value=pad_token_ix)\n",
        "\n",
        "  # We will also pad the labels. Before doing so, we will record the number \n",
        "  # of labels so that we know how many words existed in each example. \n",
        "  lengths = [len(label) for label in y]\n",
        "  lenghts = torch.LongTensor(lengths)\n",
        "\n",
        "  y = [torch.LongTensor(y_i) for y_i in y]\n",
        "  y_padded = nn.utils.rnn.pad_sequence(y, batch_first=True, padding_value=0)\n",
        "\n",
        "  # We are now ready to return our variables. The order we return our variables\n",
        "  # here will match the order we read them in our training loop.\n",
        "  return x_padded, y_padded, lenghts  "
      ]
    },
    {
      "cell_type": "markdown",
      "metadata": {
        "id": "1Q0gXea-bCsz"
      },
      "source": [
        "This function seems long, but it really doesn't have to be. Check out the alternative version below where we remove the extra function declarations and comments. "
      ]
    },
    {
      "cell_type": "code",
      "execution_count": null,
      "metadata": {
        "id": "dZfcmAJXbLcq"
      },
      "outputs": [],
      "source": [
        "def _custom_collate_fn(batch, window_size, word_to_ix):\n",
        "  # Prepare the datapoints\n",
        "  x, y = zip(*batch)  \n",
        "  x = [pad_window(s, window_size=window_size) for s in x]\n",
        "  x = [convert_tokens_to_indices(s, word_to_ix) for s in x]\n",
        "\n",
        "  # Pad x so that all the examples in the batch have the same size\n",
        "  pad_token_ix = word_to_ix[\"<pad>\"]\n",
        "  x = [torch.LongTensor(x_i) for x_i in x]\n",
        "  x_padded = nn.utils.rnn.pad_sequence(x, batch_first=True, padding_value=pad_token_ix)\n",
        "\n",
        "  # Pad y and record the length\n",
        "  lengths = [len(label) for label in y]\n",
        "  lenghts = torch.LongTensor(lengths)\n",
        "  y = [torch.LongTensor(y_i) for y_i in y]\n",
        "  y_padded = nn.utils.rnn.pad_sequence(y, batch_first=True, padding_value=0)\n",
        "\n",
        "  return x_padded, y_padded, lenghts  "
      ]
    },
    {
      "cell_type": "markdown",
      "metadata": {
        "id": "dS1WuQO0Khxx"
      },
      "source": [
        "Now, we can see the `DataLoader` in action. "
      ]
    },
    {
      "cell_type": "code",
      "execution_count": null,
      "metadata": {
        "colab": {
          "base_uri": "https://localhost:8080/"
        },
        "id": "RfB0JKL2vZ6p",
        "outputId": "fb7c8115-e244-425f-a34f-d61462460829"
      },
      "outputs": [
        {
          "output_type": "stream",
          "name": "stdout",
          "text": [
            "Iteration 0\n",
            "Batched Input:\n",
            "tensor([[ 0,  0, 19,  5, 14, 21, 12,  3,  0,  0],\n",
            "        [ 0,  0, 19, 16, 12,  8,  4,  0,  0,  0]])\n",
            "Batched Labels:\n",
            "tensor([[0, 0, 0, 1, 0, 1],\n",
            "        [0, 0, 0, 0, 1, 0]])\n",
            "Batched Lengths:\n",
            "tensor([6, 5])\n",
            "\n",
            "Iteration 1\n",
            "Batched Input:\n",
            "tensor([[ 0,  0,  9,  7,  8, 18,  0,  0],\n",
            "        [ 0,  0, 10, 13, 11, 17,  0,  0]])\n",
            "Batched Labels:\n",
            "tensor([[0, 0, 0, 1],\n",
            "        [0, 0, 0, 1]])\n",
            "Batched Lengths:\n",
            "tensor([4, 4])\n",
            "\n",
            "Iteration 2\n",
            "Batched Input:\n",
            "tensor([[ 0,  0, 22,  2,  6, 20, 15,  0,  0]])\n",
            "Batched Labels:\n",
            "tensor([[0, 0, 0, 0, 1]])\n",
            "Batched Lengths:\n",
            "tensor([5])\n",
            "\n"
          ]
        }
      ],
      "source": [
        "# Parameters to be passed to the DataLoader\n",
        "data = list(zip(train_sentences, train_labels))\n",
        "batch_size = 2\n",
        "shuffle = True\n",
        "window_size = 2\n",
        "collate_fn = partial(custom_collate_fn, window_size=window_size, word_to_ix=word_to_ix)\n",
        "\n",
        "# Instantiate the DataLoader\n",
        "loader = DataLoader(data, batch_size=batch_size, shuffle=shuffle, collate_fn=collate_fn)\n",
        "\n",
        "# Go through one loop\n",
        "counter = 0\n",
        "for batched_x, batched_y, batched_lengths in loader:\n",
        "  print(f\"Iteration {counter}\")\n",
        "  print(\"Batched Input:\")\n",
        "  print(batched_x)\n",
        "  print(\"Batched Labels:\")\n",
        "  print(batched_y)\n",
        "  print(\"Batched Lengths:\")\n",
        "  print(batched_lengths)\n",
        "  print(\"\")\n",
        "  counter += 1"
      ]
    },
    {
      "cell_type": "markdown",
      "metadata": {
        "id": "93QOZSsMTFNF"
      },
      "source": [
        "The batched input tensors you see above will be passed into our model. On the other hand, we started off saying that our model will be a window classifier. The way our input tensors are currently formatted, we have all the words in a sentence in one datapoint. When we pass this input to our model, it needs to create the windows for each word, make a prediction as to whether the center word is a `LOCATION` or not for each window, put the predictions together and return. \n",
        "\n",
        "We could avoid this problem if we formatted our data by breaking it into windows beforehand. In this example, we will instead how our model take care of the formatting. \n",
        "\n",
        "Given that our `window_size` is `N` we want our model to make a prediction on every `2N+1` tokens. That is, if we have an input with `9` tokens, and a `window_size` of `2`, we want our model to return `5` predictions. This makes sense because before we padded it with `2` tokens on each side, our input also had `5` tokens in it! \n",
        "\n",
        "We can create these windows by using for loops, but there is a faster `PyTorch` alternative, which is the `unfold(dimension, size, step)` method. We can create the windows we need using this method as follows:"
      ]
    },
    {
      "cell_type": "code",
      "execution_count": null,
      "metadata": {
        "colab": {
          "base_uri": "https://localhost:8080/"
        },
        "id": "RMZu-pxLVxHQ",
        "outputId": "704d0983-fb24-458d-bcb8-268e7e05990a"
      },
      "outputs": [
        {
          "output_type": "stream",
          "name": "stdout",
          "text": [
            "Original Tensor: \n",
            "tensor([[ 0,  0, 22,  2,  6, 20, 15,  0,  0]])\n",
            "\n",
            "Windows: \n",
            "tensor([[[ 0,  0, 22,  2,  6],\n",
            "         [ 0, 22,  2,  6, 20],\n",
            "         [22,  2,  6, 20, 15],\n",
            "         [ 2,  6, 20, 15,  0],\n",
            "         [ 6, 20, 15,  0,  0]]])\n"
          ]
        }
      ],
      "source": [
        "# Print the original tensor\n",
        "print(f\"Original Tensor: \")\n",
        "print(batched_x)\n",
        "print(\"\")\n",
        "\n",
        "# Create the 2 * 2 + 1 chunks\n",
        "chunk = batched_x.unfold(1, window_size*2 + 1, 1)\n",
        "print(f\"Windows: \")\n",
        "print(chunk)"
      ]
    },
    {
      "cell_type": "markdown",
      "metadata": {
        "id": "XlDbOpeoSKxd"
      },
      "source": [
        "### Model\n",
        "\n",
        "Now that we have prepared our data, we are ready to build our model. We have learned how to write custom `nn.Module` classes. We will do the same here and put everything we have learned so far together. "
      ]
    },
    {
      "cell_type": "code",
      "execution_count": null,
      "metadata": {
        "id": "JLTU4h76NLYm"
      },
      "outputs": [],
      "source": [
        "class WordWindowClassifier(nn.Module):\n",
        "\n",
        "  def __init__(self, hyperparameters, vocab_size, pad_ix=0):\n",
        "    super(WordWindowClassifier, self).__init__()\n",
        "    \n",
        "    \"\"\" Instance variables \"\"\"\n",
        "    self.window_size = hyperparameters[\"window_size\"]\n",
        "    self.embed_dim = hyperparameters[\"embed_dim\"]\n",
        "    self.hidden_dim = hyperparameters[\"hidden_dim\"]\n",
        "    self.freeze_embeddings = hyperparameters[\"freeze_embeddings\"]\n",
        "\n",
        "    \"\"\" Embedding Layer \n",
        "    Takes in a tensor containing embedding indices, and returns the \n",
        "    corresponding embeddings. The output is of dim \n",
        "    (number_of_indices * embedding_dim).\n",
        "\n",
        "    If freeze_embeddings is True, set the embedding layer parameters to be\n",
        "    non-trainable. This is useful if we only want the parameters other than the\n",
        "    embeddings parameters to change. \n",
        "\n",
        "    \"\"\"\n",
        "    self.embeds = nn.Embedding(vocab_size, self.embed_dim, padding_idx=pad_ix)\n",
        "    if self.freeze_embeddings:\n",
        "      self.embed_layer.weight.requires_grad = False\n",
        "\n",
        "    \"\"\" Hidden Layer\n",
        "    \"\"\"\n",
        "    full_window_size = 2 * window_size + 1\n",
        "    self.hidden_layer = nn.Sequential(\n",
        "      nn.Linear(full_window_size * self.embed_dim, self.hidden_dim), \n",
        "      nn.Tanh()\n",
        "    )\n",
        "\n",
        "    \"\"\" Output Layer\n",
        "    \"\"\"\n",
        "    self.output_layer = nn.Linear(self.hidden_dim, 1)\n",
        "\n",
        "    \"\"\" Probabilities \n",
        "    \"\"\"\n",
        "    self.probabilities = nn.Sigmoid()\n",
        "\n",
        "  def forward(self, inputs):\n",
        "    \"\"\"\n",
        "    Let B:= batch_size\n",
        "        L:= window-padded sentence length\n",
        "        D:= self.embed_dim\n",
        "        S:= self.window_size\n",
        "        H:= self.hidden_dim\n",
        "        \n",
        "    inputs: a (B, L) tensor of token indices\n",
        "    \"\"\"\n",
        "    B, L = inputs.size()\n",
        "\n",
        "    \"\"\"\n",
        "    Reshaping.\n",
        "    Takes in a (B, L) LongTensor\n",
        "    Outputs a (B, L~, S) LongTensor\n",
        "    \"\"\"\n",
        "    # Fist, get our word windows for each word in our input.\n",
        "    token_windows = inputs.unfold(1, 2 * self.window_size + 1, 1)\n",
        "    _, adjusted_length, _ = token_windows.size()\n",
        "\n",
        "    # Good idea to do internal tensor-size sanity checks, at the least in comments!\n",
        "    assert token_windows.size() == (B, adjusted_length, 2 * self.window_size + 1)\n",
        "\n",
        "    \"\"\"\n",
        "    Embedding.\n",
        "    Takes in a torch.LongTensor of size (B, L~, S) \n",
        "    Outputs a (B, L~, S, D) FloatTensor.\n",
        "    \"\"\"\n",
        "    embedded_windows = self.embeds(token_windows)\n",
        "\n",
        "    \"\"\"\n",
        "    Reshaping.\n",
        "    Takes in a (B, L~, S, D) FloatTensor.\n",
        "    Resizes it into a (B, L~, S*D) FloatTensor.\n",
        "    -1 argument \"infers\" what the last dimension should be based on leftover axes.\n",
        "    \"\"\"\n",
        "    embedded_windows = embedded_windows.view(B, adjusted_length, -1)\n",
        "\n",
        "    \"\"\"\n",
        "    Layer 1.\n",
        "    Takes in a (B, L~, S*D) FloatTensor.\n",
        "    Resizes it into a (B, L~, H) FloatTensor\n",
        "    \"\"\"\n",
        "    layer_1 = self.hidden_layer(embedded_windows)\n",
        "\n",
        "    \"\"\"\n",
        "    Layer 2\n",
        "    Takes in a (B, L~, H) FloatTensor.\n",
        "    Resizes it into a (B, L~, 1) FloatTensor.\n",
        "    \"\"\"\n",
        "    output = self.output_layer(layer_1)\n",
        "\n",
        "    \"\"\"\n",
        "    Softmax.\n",
        "    Takes in a (B, L~, 1) FloatTensor of unnormalized class scores.\n",
        "    Outputs a (B, L~, 1) FloatTensor of (log-)normalized class scores.\n",
        "    \"\"\"\n",
        "    output = self.probabilities(output)\n",
        "    output = output.view(B, -1)\n",
        "\n",
        "    return output"
      ]
    },
    {
      "cell_type": "markdown",
      "metadata": {
        "id": "Avy1fnyAvEcd"
      },
      "source": [
        "### Training\n",
        "\n",
        "We are now ready to put everything together. Let's start with preparing our data and intializing our model. We can then intialize our optimizer and define our loss function. This time, instead of using one of the predefined loss function as we did before, we will define our own loss function. "
      ]
    },
    {
      "cell_type": "code",
      "execution_count": null,
      "metadata": {
        "id": "bInu1VqjHsfj"
      },
      "outputs": [],
      "source": [
        "# Prepare the data\n",
        "data = list(zip(train_sentences, train_labels))\n",
        "batch_size = 2\n",
        "shuffle = True\n",
        "window_size = 2\n",
        "collate_fn = partial(custom_collate_fn, window_size=window_size, word_to_ix=word_to_ix)\n",
        "\n",
        "# Instantiate a DataLoader\n",
        "loader = DataLoader(data, batch_size=batch_size, shuffle=shuffle, collate_fn=collate_fn)\n",
        "\n",
        "# Initialize a model\n",
        "# It is useful to put all the model hyperparameters in a dictionary\n",
        "model_hyperparameters = {\n",
        "    \"batch_size\": 4,\n",
        "    \"window_size\": 2,\n",
        "    \"embed_dim\": 25,\n",
        "    \"hidden_dim\": 25,\n",
        "    \"freeze_embeddings\": False,\n",
        "}\n",
        "\n",
        "vocab_size = len(word_to_ix)\n",
        "model = WordWindowClassifier(model_hyperparameters, vocab_size)\n",
        "\n",
        "# Define an optimizer\n",
        "learning_rate = 0.01\n",
        "optimizer = torch.optim.SGD(model.parameters(), lr=learning_rate)\n",
        "\n",
        "# Define a loss function, which computes to binary cross entropy loss\n",
        "def loss_function(batch_outputs, batch_labels, batch_lengths):   \n",
        "    # Calculate the loss for the whole batch\n",
        "    bceloss = nn.BCELoss()\n",
        "    loss = bceloss(batch_outputs, batch_labels.float())\n",
        "\n",
        "    # Rescale the loss. Remember that we have used lengths to store the \n",
        "    # number of words in each training example\n",
        "    loss = loss / batch_lengths.sum().float()\n",
        "\n",
        "    return loss"
      ]
    },
    {
      "cell_type": "markdown",
      "metadata": {
        "id": "pHxpxDkFHfQE"
      },
      "source": [
        "Unlike our earlier example, this time instead of passing all of our training data to the model at once in each epoch, we will be utilizing batches. Hence, in each training epoch iteration, we also iterate over the batches."
      ]
    },
    {
      "cell_type": "code",
      "execution_count": null,
      "metadata": {
        "id": "QL9IDgIOvHca"
      },
      "outputs": [],
      "source": [
        "# Function that will be called in every epoch\n",
        "def train_epoch(loss_function, optimizer, model, loader):\n",
        "  \n",
        "  # Keep track of the total loss for the batch\n",
        "  total_loss = 0\n",
        "  for batch_inputs, batch_labels, batch_lengths in loader:\n",
        "    # Clear the gradients\n",
        "    optimizer.zero_grad()\n",
        "    # Run a forward pass\n",
        "    outputs = model.forward(batch_inputs)\n",
        "    # Compute the batch loss\n",
        "    loss = loss_function(outputs, batch_labels, batch_lengths)\n",
        "    # Calculate the gradients\n",
        "    loss.backward()\n",
        "    # Update the parameteres\n",
        "    optimizer.step()\n",
        "    total_loss += loss.item()\n",
        "\n",
        "  return total_loss\n",
        "\n",
        "\n",
        "# Function containing our main training loop\n",
        "def train(loss_function, optimizer, model, loader, num_epochs=10000):\n",
        "\n",
        "  # Iterate through each epoch and call our train_epoch function\n",
        "  for epoch in range(num_epochs):\n",
        "    epoch_loss = train_epoch(loss_function, optimizer, model, loader)\n",
        "    if epoch % 100 == 0: print(epoch_loss)"
      ]
    },
    {
      "cell_type": "markdown",
      "metadata": {
        "id": "cjf75cnzJ4n6"
      },
      "source": [
        "Let's start training!"
      ]
    },
    {
      "cell_type": "code",
      "execution_count": null,
      "metadata": {
        "colab": {
          "base_uri": "https://localhost:8080/"
        },
        "id": "Kav8kwVBJ6XW",
        "outputId": "1b3241fe-ec9d-4c9b-9114-64a4d33bfbf0"
      },
      "outputs": [
        {
          "output_type": "stream",
          "name": "stdout",
          "text": [
            "0.254519484937191\n",
            "0.22126034647226334\n",
            "0.1863262876868248\n",
            "0.1411917731165886\n",
            "0.11271613463759422\n",
            "0.07460430264472961\n",
            "0.07114784605801105\n",
            "0.04489879123866558\n",
            "0.04200212471187115\n",
            "0.02971037570387125\n"
          ]
        }
      ],
      "source": [
        "num_epochs = 1000\n",
        "train(loss_function, optimizer, model, loader, num_epochs=num_epochs)"
      ]
    },
    {
      "cell_type": "markdown",
      "metadata": {
        "id": "T-k7Pav4LdQJ"
      },
      "source": [
        "### Prediction\n",
        "\n",
        "Let's see how well our model is at making predictions. We can start by creating our test data."
      ]
    },
    {
      "cell_type": "code",
      "execution_count": null,
      "metadata": {
        "id": "-v5X69a2Lkbm"
      },
      "outputs": [],
      "source": [
        "# Create test sentences\n",
        "test_corpus = [\"She comes from Paris\"]\n",
        "test_sentences = [s.lower().split() for s in test_corpus]\n",
        "test_labels = [[0, 0, 0, 1]]\n",
        "\n",
        "# Create a test loader\n",
        "test_data = list(zip(test_sentences, test_labels))\n",
        "batch_size = 1\n",
        "shuffle = False\n",
        "window_size = 2\n",
        "collate_fn = partial(custom_collate_fn, window_size=2, word_to_ix=word_to_ix)\n",
        "test_loader = torch.utils.data.DataLoader(test_data, \n",
        "                                           batch_size=1, \n",
        "                                           shuffle=False, \n",
        "                                           collate_fn=collate_fn)"
      ]
    },
    {
      "cell_type": "markdown",
      "metadata": {
        "id": "HlBa8xaNMZgv"
      },
      "source": [
        "Let's loop over our test examples to see how well we are doing. "
      ]
    },
    {
      "cell_type": "code",
      "execution_count": null,
      "metadata": {
        "colab": {
          "base_uri": "https://localhost:8080/"
        },
        "id": "dGYn8CAoMTjX",
        "outputId": "900c0906-8468-45b0-a4c8-5a970923e95b"
      },
      "outputs": [
        {
          "output_type": "stream",
          "name": "stdout",
          "text": [
            "tensor([[0, 0, 0, 1]])\n",
            "tensor([[0.0387, 0.0893, 0.0321, 0.9316]], grad_fn=<ViewBackward0>)\n"
          ]
        }
      ],
      "source": [
        "for test_instance, labels, _ in test_loader:\n",
        "  outputs = model.forward(test_instance)\n",
        "  print(labels)\n",
        "  print(outputs)"
      ]
    },
    {
      "cell_type": "markdown",
      "metadata": {
        "id": "VKVOiLOErxTA"
      },
      "source": [
        "# <font color=\"yellow\">That's it for today :)<br> Questions?</font>"
      ]
    },
    {
      "cell_type": "code",
      "execution_count": null,
      "metadata": {
        "id": "iebrU4ZibVIR"
      },
      "outputs": [],
      "source": []
    }
  ],
  "metadata": {
    "colab": {
      "provenance": []
    },
    "kernelspec": {
      "display_name": "Python 3",
      "name": "python3"
    },
    "language_info": {
      "codemirror_mode": {
        "name": "ipython",
        "version": 3
      },
      "file_extension": ".py",
      "mimetype": "text/x-python",
      "name": "python",
      "nbconvert_exporter": "python",
      "pygments_lexer": "ipython3",
      "version": "3.10.6"
    }
  },
  "nbformat": 4,
  "nbformat_minor": 0
}